{
 "cells": [
  {
   "cell_type": "markdown",
   "metadata": {},
   "source": [
    "# TP 6: Clase 7"
   ]
  },
  {
   "cell_type": "markdown",
   "metadata": {},
   "source": [
    "Utilizando la wecam\n",
    " \n",
    "Implementar un algoritmo utilizando filtros de Haar en cascada que:\n",
    "- Detecte rostros\n",
    "- Dentro de los rostros detecte ojos\n",
    "- Dentro de los rostros detecte sonrisas "
   ]
  },
  {
   "cell_type": "code",
   "execution_count": 18,
   "metadata": {},
   "outputs": [],
   "source": [
    "# Se importan las librerías\n",
    "import cv2 as cv\n",
    "import time"
   ]
  },
  {
   "cell_type": "code",
   "execution_count": 2,
   "metadata": {},
   "outputs": [],
   "source": [
    "# Se importan los modelos\n",
    "face_cascade = cv.CascadeClassifier('tp6_models/haarcascade_frontalface_default.xml')\n",
    "eye_cascade = cv.CascadeClassifier('tp6_models/haarcascade_eye.xml')\n",
    "smile_cascade = cv.CascadeClassifier('tp6_models/haarcascade_smile.xml')"
   ]
  },
  {
   "cell_type": "code",
   "execution_count": 17,
   "metadata": {},
   "outputs": [],
   "source": [
    "# Cargamos la imagen a analizar\n",
    "#------------------------------\n",
    "camera_number = 1\n",
    "camera = cv.VideoCapture(camera_number)\n",
    "\n",
    "while(1):\n",
    "    ret, frame = camera.read()\n",
    "    # Pasamos la imagen a escala de grises\n",
    "    #-------------------------------------\n",
    "    grayImage = cv.cvtColor(frame, cv.COLOR_BGR2GRAY)\n",
    "    grayImage = cv.equalizeHist(grayImage)\n",
    "\n",
    "    # Llamamos al clasificador de Haar (AdaBoost)\n",
    "    #--------------------------------------------\n",
    "    #faces = face_cascade.detectMultiScale(grayImage, 1.012, 5)\n",
    "    faces = face_cascade.detectMultiScale(grayImage, 1.1, 3)\n",
    "\n",
    "    # Recorro las caras encontradas\n",
    "    #------------------------------\n",
    "    for (x, y, w, h) in faces:\n",
    "        # Le dibujamos un rectángulo amarillo\n",
    "        cv.rectangle(frame, (x, y), (x + w, y + h), (255, 255, 0), 2)\n",
    "        # Definimos las ROIs en la imagen gris y color\n",
    "        roi_gray = grayImage[y:y + h, x:x + w] \n",
    "        roi_color = frame[y:y + h, x:x + w] \n",
    "        # Para cada rostro hallado le buscamos los ojos\n",
    "        eyes = eye_cascade.detectMultiScale(roi_gray, 1.1, 25)\n",
    "        # En los ojos hallados les dibujamos rectángulos\n",
    "        for (ex, ey, ew, eh) in eyes:\n",
    "            cv.rectangle(roi_color, (ex, ey), (ex + ew, ey + eh), (0, 255, 0), 2)\n",
    "        # Se hayan las caras y se dibujan rectangulos\n",
    "        smiles = smile_cascade.detectMultiScale(roi_gray, 1.1, 10)\n",
    "        for (sx, sy, sw, sh) in smiles:\n",
    "            cv.rectangle(roi_color, (sx, sy), (sx + sw, sy + sh), (0, 0, 255), 2)\n",
    "        \n",
    "        \n",
    "    cv.imshow('Detección de caras con filtros de Haar en cascada', frame) \n",
    "    \n",
    "    k = cv.waitKey(30) & 0xff\n",
    "    if k == 27:\n",
    "        break\n",
    "\n",
    "cv.destroyAllWindows()\n",
    "camera.release()"
   ]
  }
 ],
 "metadata": {
  "interpreter": {
   "hash": "381eb007a34d8c1cdb905850c2f3106cb914c7dd3c02e711b593e7e3b228bf2b"
  },
  "kernelspec": {
   "display_name": "Python 3.8.8 64-bit ('base': conda)",
   "name": "python3"
  },
  "language_info": {
   "codemirror_mode": {
    "name": "ipython",
    "version": 3
   },
   "file_extension": ".py",
   "mimetype": "text/x-python",
   "name": "python",
   "nbconvert_exporter": "python",
   "pygments_lexer": "ipython3",
   "version": "3.8.8"
  },
  "orig_nbformat": 4
 },
 "nbformat": 4,
 "nbformat_minor": 2
}
