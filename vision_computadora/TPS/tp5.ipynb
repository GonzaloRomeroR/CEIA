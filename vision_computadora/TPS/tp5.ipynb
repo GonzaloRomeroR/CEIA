{
 "cells": [
  {
   "cell_type": "markdown",
   "metadata": {},
   "source": [
    "# TP5: Clase 6"
   ]
  },
  {
   "cell_type": "markdown",
   "metadata": {},
   "source": [
    "Utilizando la webcam, implementar un algoritmo de seguimiento con CamShift que:"
   ]
  },
  {
   "cell_type": "markdown",
   "metadata": {},
   "source": [
    "a - Permita elegir la ROI del objeto a seguir\n",
    "\n",
    "b - Permita cambiar la escala de la ventana (no necesariamente la orientación)\n"
   ]
  },
  {
   "cell_type": "code",
   "execution_count": 2,
   "metadata": {},
   "outputs": [],
   "source": [
    "import cv2 as cv\n",
    "import numpy as np"
   ]
  },
  {
   "cell_type": "code",
   "execution_count": 21,
   "metadata": {},
   "outputs": [],
   "source": [
    "cap = cv.VideoCapture(1)\n",
    "#cap.set(cv.CAP_PROP_FPS, 5)\n",
    "\n",
    "# Se toma el primer frame del video\n",
    "ret, frame = cap.read()\n",
    "\n",
    "# Se define la ubicación inicial de la ventana de seguimiento\n",
    "x, y, w, h = 300, 200, 100, 50\n",
    "track_window = (x, y, w, h)\n",
    "\n",
    "# Se establece la ROI para realizar el seguimiento\n",
    "roi = frame[y:y + h, x:x + w]\n",
    "\n",
    "# Se pasa la ROI a HSV (más estables a cambios de intensidad)\n",
    "hsv_roi =  cv.cvtColor(roi, cv.COLOR_BGR2HSV)\n",
    "\n",
    "# Se define una máscara para el histograma (Hue: 0..180, Saturation:60..255, Value:32..255)\n",
    "mask = cv.inRange(hsv_roi, np.array((0., 60., 32.)), np.array((180., 255., 255.)))\n",
    "\n",
    "# Se calcula el histograma sobre esa máscara (toma solo el Hue: tonalidad)\n",
    "roi_hist = cv.calcHist([hsv_roi], [0], mask, [180], [0, 180])\n",
    "\n",
    "# Se normaliza el histograma (entre 0 y 255 según indica el flag cv.NORM_MINMAX)\n",
    "cv.normalize(roi_hist, roi_hist, 0, 255, cv.NORM_MINMAX);"
   ]
  },
  {
   "cell_type": "code",
   "execution_count": 22,
   "metadata": {},
   "outputs": [],
   "source": [
    "# Condición de terminación: 10 iteraciones o moverse al menos 1pt\n",
    "term_crit = (cv.TERM_CRITERIA_EPS | cv.TERM_CRITERIA_COUNT, 1, 10)\n",
    "\n",
    "while(1):\n",
    "    ret, frame = cap.read()\n",
    "    if ret == True:\n",
    "        hsv = cv.cvtColor(frame, cv.COLOR_BGR2HSV)\n",
    "        dst = cv.calcBackProject([hsv], [0], roi_hist, [0, 180] ,1)\n",
    "        \n",
    "        # Se aplica camshift al nuevo frame\n",
    "        ret, track_window = cv.CamShift(dst, track_window, term_crit)\n",
    "        \n",
    "        # Se dibuja la ventana sobre la imagen\n",
    "        x, y, w, h = track_window\n",
    "        img2 = cv.rectangle(frame, (x, y), (x + w, y + h), 255, 2)\n",
    "        \n",
    "        cv.imshow('Seguimiento', img2)\n",
    "        \n",
    "        k = cv.waitKey(30) & 0xff\n",
    "        if k == 27:\n",
    "            break\n",
    "    else:\n",
    "        break\n",
    "cv.destroyAllWindows()\n",
    "cap.release()"
   ]
  }
 ],
 "metadata": {
  "interpreter": {
   "hash": "381eb007a34d8c1cdb905850c2f3106cb914c7dd3c02e711b593e7e3b228bf2b"
  },
  "kernelspec": {
   "display_name": "Python 3.8.8 64-bit ('base': conda)",
   "name": "python3"
  },
  "language_info": {
   "codemirror_mode": {
    "name": "ipython",
    "version": 3
   },
   "file_extension": ".py",
   "mimetype": "text/x-python",
   "name": "python",
   "nbconvert_exporter": "python",
   "pygments_lexer": "ipython3",
   "version": "3.8.8"
  },
  "orig_nbformat": 4
 },
 "nbformat": 4,
 "nbformat_minor": 2
}
