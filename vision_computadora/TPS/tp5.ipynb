{
 "cells": [
  {
   "cell_type": "markdown",
   "metadata": {},
   "source": [
    "# TP5: Clase 6"
   ]
  },
  {
   "cell_type": "markdown",
   "metadata": {},
   "source": [
    "Utilizando la webcam, implementar un algoritmo de seguimiento con CamShift que:"
   ]
  },
  {
   "cell_type": "markdown",
   "metadata": {},
   "source": [
    "a - Permita elegir la ROI del objeto a seguir\n",
    "\n",
    "b - Permita cambiar la escala de la ventana (no necesariamente la orientación)\n"
   ]
  },
  {
   "cell_type": "markdown",
   "metadata": {},
   "source": [
    "### Importación de librerías"
   ]
  },
  {
   "cell_type": "code",
   "execution_count": 2,
   "metadata": {},
   "outputs": [
    {
     "name": "stdout",
     "output_type": "stream",
     "text": [
      "Using matplotlib backend: Qt5Agg\n"
     ]
    }
   ],
   "source": [
    "# Se importan las librerías\n",
    "import cv2 as cv\n",
    "import numpy as np\n",
    "import matplotlib.pyplot as plt\n",
    "%matplotlib"
   ]
  },
  {
   "cell_type": "markdown",
   "metadata": {},
   "source": [
    "### Definición de funciones"
   ]
  },
  {
   "cell_type": "code",
   "execution_count": 93,
   "metadata": {},
   "outputs": [],
   "source": [
    "\n",
    "def get_ROI(frame):\n",
    "    fromCenter = False\n",
    "    rec = cv.selectROI(frame, fromCenter)\n",
    "    track_window = (rec[0], rec[1], rec[3], rec[2])\n",
    "    roi = frame[int(rec[1]):int(rec[1] + rec[3]), int(rec[0]):int(rec[0] + rec[2])]\n",
    "    return roi, track_window\n",
    "\n",
    "def convert_HSV(im):\n",
    "    return cv.cvtColor(im, cv.COLOR_BGR2HSV)\n",
    "\n",
    "def plot_histograms(im):\n",
    "    h, s, v = im[:,:,0], im[:,:,1], im[:,:,2]\n",
    "    hist_h = cv.calcHist([h], [0], None, [256], [0,256])\n",
    "    hist_s = cv.calcHist([s], [0], None, [256], [0,256])\n",
    "    hist_v = cv.calcHist([v], [0], None, [256], [0,256])\n",
    "    plt.plot(hist_h, color='r', label=\"H\")\n",
    "    plt.plot(hist_s, color='g', label=\"S\")\n",
    "    plt.plot(hist_v, color='b', label=\"V\")\n",
    "    plt.legend()\n",
    "    plt.grid()\n",
    "    plt.show()\n",
    "\n",
    "def get_norm_hist(hsv_im, mask):\n",
    "    hist = cv.calcHist([hsv_im], [0, 1], mask, [180, 256], [0, 180, 0, 256])\n",
    "    cv.normalize(hist, hist, 0, 255, cv.NORM_MINMAX);\n",
    "    return hist\n",
    "\n",
    "def get_hsv_limits(im):\n",
    "    def update_trackbar(val):\n",
    "        pass\n",
    "\n",
    "    window_name = \"Mask selector\"\n",
    "    cv.namedWindow(window_name)\n",
    "    bars = [\"H_low\", \"H_high\", \"S_low\", \"S_high\", \"V_low\", \"V_high\"]\n",
    "    for bar_name in bars:\n",
    "        value = 255 if \"high\" in bar_name else 0\n",
    "        cv.createTrackbar(bar_name, window_name, value, 255, update_trackbar)\n",
    "    hsv_limits = dict()\n",
    "    while True:\n",
    "        for bar_name in bars:\n",
    "            hsv_limits[bar_name] = cv.getTrackbarPos(bar_name, window_name)\n",
    "        \n",
    "        low_hsv = np.array((hsv_limits[\"H_low\"], hsv_limits[\"S_low\"], hsv_limits[\"V_low\"]))\n",
    "        high_hsv = np.array((hsv_limits[\"H_high\"], hsv_limits[\"S_high\"], hsv_limits[\"V_high\"]))\n",
    "        mask = cv.inRange(frame, low_hsv, high_hsv)\n",
    "        \n",
    "        cv.imshow(\"frame\", frame)\n",
    "        cv.imshow(\"mask\", mask)\n",
    "\n",
    "        key = cv.waitKey(1)\n",
    "        if key == 27 or k == 13:\n",
    "            break\n",
    "    return low_hsv, high_hsv\n",
    "\n",
    "    "
   ]
  },
  {
   "cell_type": "markdown",
   "metadata": {},
   "source": [
    "### Obtención de la ROI"
   ]
  },
  {
   "cell_type": "code",
   "execution_count": 94,
   "metadata": {},
   "outputs": [
    {
     "name": "stdout",
     "output_type": "stream",
     "text": [
      "Track window: (299, 276, 85, 116)\n"
     ]
    }
   ],
   "source": [
    "# Se define el número de cámara y se hace la captura del video\n",
    "cv.destroyAllWindows()\n",
    "camera_number = 1\n",
    "camera = cv.VideoCapture(camera_number)\n",
    "\n",
    "# Se eliminan los primeros frames\n",
    "for _ in range(4):\n",
    "    ret, frame = camera.read()\n",
    "\n",
    "# Se obtiene la ROI\n",
    "roi, track_window = get_ROI(frame)\n",
    "cv.destroyAllWindows()\n",
    "print(f\"Track window: {track_window}\")\n",
    "cv.imshow(\"ROI\", roi)\n",
    "\n",
    "# Se pasa la ROI a HSV (más estables a cambios de intensidad)\n",
    "hsv_roi = convert_HSV(roi)\n",
    "plot_histograms(hsv_roi)"
   ]
  },
  {
   "cell_type": "markdown",
   "metadata": {},
   "source": [
    "### Obtención de la máscara"
   ]
  },
  {
   "cell_type": "code",
   "execution_count": 95,
   "metadata": {},
   "outputs": [],
   "source": [
    "# Se convierte a hsv\n",
    "hsv_frame = convert_HSV(frame)\n",
    "# Se obtienen los limites para la máscara\n",
    "low_hsv, high_hsv = get_hsv_limits(hsv_frame)\n",
    "# Se define una máscara para el histograma \n",
    "mask = cv.inRange(hsv_roi, low_hsv, high_hsv)\n",
    "# Se calcula el histograma sobre esa máscara (toma solo el Hue: tonalidad)\n",
    "roi_hist = get_norm_hist(hsv_roi, mask)\n",
    "# Se obtiene el histograma\n",
    "cv.destroyAllWindows()\n"
   ]
  },
  {
   "cell_type": "markdown",
   "metadata": {},
   "source": [
    "### Utilización de CamShift"
   ]
  },
  {
   "cell_type": "code",
   "execution_count": 97,
   "metadata": {},
   "outputs": [],
   "source": [
    "# Condición de terminación: 10 iteraciones o moverse al menos 1pt\n",
    "term_crit = (cv.TERM_CRITERIA_EPS | cv.TERM_CRITERIA_COUNT, 1, 10)\n",
    "\n",
    "while(1):\n",
    "    ret, frame = camera.read()\n",
    "    if ret == True:\n",
    "        hsv = cv.cvtColor(frame, cv.COLOR_BGR2HSV)\n",
    "        dst = cv.calcBackProject([hsv], [0, 1], roi_hist, [0, 180, 0, 256], 1)\n",
    "        \n",
    "        # Se aplica camshift al nuevo frame\n",
    "        ret, track_window = cv.CamShift(dst, track_window, term_crit)\n",
    "        \n",
    "        # Se dibuja la ventana sobre la imagen\n",
    "        x, y, w, h = track_window\n",
    "        img_rec = cv.rectangle(frame, (x, y), (x + w, y + h), 255, 2)\n",
    "        \n",
    "        cv.imshow('Seguimiento', img_rec)\n",
    "        \n",
    "        k = cv.waitKey(30) & 0xff\n",
    "        if k == 27:\n",
    "            break\n",
    "    else:\n",
    "        break\n",
    "cv.destroyAllWindows()\n",
    "camera.release()"
   ]
  }
 ],
 "metadata": {
  "interpreter": {
   "hash": "381eb007a34d8c1cdb905850c2f3106cb914c7dd3c02e711b593e7e3b228bf2b"
  },
  "kernelspec": {
   "display_name": "Python 3.8.8 64-bit ('base': conda)",
   "name": "python3"
  },
  "language_info": {
   "codemirror_mode": {
    "name": "ipython",
    "version": 3
   },
   "file_extension": ".py",
   "mimetype": "text/x-python",
   "name": "python",
   "nbconvert_exporter": "python",
   "pygments_lexer": "ipython3",
   "version": "3.8.8"
  },
  "orig_nbformat": 4
 },
 "nbformat": 4,
 "nbformat_minor": 2
}
