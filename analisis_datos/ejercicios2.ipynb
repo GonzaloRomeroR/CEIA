{
 "cells": [
  {
   "cell_type": "markdown",
   "source": [
    "# Ejercicios: Clase 2"
   ],
   "metadata": {}
  },
  {
   "cell_type": "markdown",
   "source": [
    "### Ejercicio 1"
   ],
   "metadata": {}
  },
  {
   "cell_type": "markdown",
   "source": [
    "Verificar si las acciones de Apple y Microsoft en los \u0013ultimos 6 meses se\r\n",
    "comportaron distinto en cuanto a su precio medio de cierre (como de\r\n",
    "costumbre, $\\alpha$ = 0:05)."
   ],
   "metadata": {}
  },
  {
   "cell_type": "code",
   "execution_count": null,
   "source": [],
   "outputs": [],
   "metadata": {}
  },
  {
   "cell_type": "markdown",
   "source": [
    "### Ejercicio 2"
   ],
   "metadata": {}
  },
  {
   "cell_type": "markdown",
   "source": [
    "Simular una v.a. Bernoulli X con p = 1 que emite dos símbolos, x1 con\r\n",
    "probabilidad p, y x2 con probabilidad 1 - p.\r\n",
    "\r\n",
    "(a) Encontrar la información de cada simbolo.\r\n",
    "\r\n",
    "(b) ¿Cómo se interpreta que la información del símbolo x2 tiende a\r\n",
    "infinito cuando su p. de ocurrencia es nula?\r\n",
    "\r\n",
    "(c) Encontrar la entropía de X."
   ],
   "metadata": {}
  },
  {
   "cell_type": "code",
   "execution_count": null,
   "source": [],
   "outputs": [],
   "metadata": {}
  }
 ],
 "metadata": {
  "orig_nbformat": 4,
  "language_info": {
   "name": "python",
   "version": "3.8.8"
  },
  "kernelspec": {
   "name": "python3",
   "display_name": "Python 3.8.8 64-bit ('base': conda)"
  },
  "interpreter": {
   "hash": "381eb007a34d8c1cdb905850c2f3106cb914c7dd3c02e711b593e7e3b228bf2b"
  }
 },
 "nbformat": 4,
 "nbformat_minor": 2
}