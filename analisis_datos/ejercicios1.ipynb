{
 "cells": [
  {
   "cell_type": "markdown",
   "source": [
    "# Ejercicio 1"
   ],
   "metadata": {}
  },
  {
   "cell_type": "code",
   "execution_count": 37,
   "source": [
    "import numpy as np\r\n",
    "from scipy.stats import kurtosis, iqr\r\n",
    "import matplotlib.pyplot as plt\r\n",
    "%matplotlib inline\r\n",
    "\r\n",
    "N = 100\r\n",
    "x = np.random.normal(size=N)\r\n",
    "kurt = kurtosis(x, fisher=False)\r\n",
    "print(\"La curtosis de Pearson es: {}\".format(kurt))\r\n",
    "iqr_x = iqr(x)\r\n",
    "print(\"La rango intercuartil es: {}\".format(iqr_x))\r\n",
    "std_x = np.std(x)\r\n",
    "print(\"La desviacion estandar es: {}, estimadas por rango {}\".format(std_x, np.abs(np.max(x) - np.min(x)) / 4))\r\n",
    "plt.boxplot(x, vert=False)\r\n",
    "plt.show()\r\n",
    "\r\n"
   ],
   "outputs": [
    {
     "output_type": "stream",
     "name": "stdout",
     "text": [
      "La curtosis de Pearson es: 3.388388460084737\n",
      "La rango intercuartil es: 1.5543384329563623\n",
      "La desviacion estandar es: 1.0941664144878025, estimadas por rango 1.3912703164759195\n"
     ]
    },
    {
     "output_type": "display_data",
     "data": {
      "image/png": "[encoded data removed]",
      "text/plain": [
       "<Figure size 432x288 with 1 Axes>"
      ]
     },
     "metadata": {
      "needs_background": "light"
     }
    }
   ],
   "metadata": {}
  },
  {
   "cell_type": "markdown",
   "source": [
    "# Ejercicio 2"
   ],
   "metadata": {}
  },
  {
   "cell_type": "code",
   "execution_count": 40,
   "source": [
    "N = 100\r\n",
    "x = np.random.exponential(size=N)\r\n",
    "kurt = kurtosis(x, fisher=False)\r\n",
    "print(\"La curtosis de Pearson es: {}\".format(kurt))\r\n",
    "iqr_x = iqr(x)\r\n",
    "print(\"La rango intercuartil es: {}\".format(iqr_x))\r\n",
    "std_x = np.std(x)\r\n",
    "print(\"La desviacion estandar es: {}, estimadas por rango {}\".format(std_x, np.abs(np.max(x) - np.min(x)) / 4))\r\n",
    "plt.boxplot(x, vert=False)\r\n",
    "plt.show()"
   ],
   "outputs": [
    {
     "output_type": "stream",
     "name": "stdout",
     "text": [
      "La curtosis de Pearson es: 4.105641577526539\n",
      "La rango intercuartil es: 0.7649837391978116\n",
      "La desviacion estandar es: 0.716685716783045, estimadas por rango 0.8118024535580244\n"
     ]
    },
    {
     "output_type": "display_data",
     "data": {
      "image/png": "[encoded data removed]",
      "text/plain": [
       "<Figure size 432x288 with 1 Axes>"
      ]
     },
     "metadata": {
      "needs_background": "light"
     }
    }
   ],
   "metadata": {}
  },
  {
   "cell_type": "markdown",
   "source": [
    "# Ejercicio 3"
   ],
   "metadata": {}
  },
  {
   "cell_type": "code",
   "execution_count": 50,
   "source": [
    "import pandas as pd\r\n",
    "\r\n",
    "data = pd.read_csv(\"AMZN.csv\")\r\n",
    "print(data.head())\r\n",
    "\r\n",
    "alpha = 0.05\r\n",
    "gain = 0.02\r\n",
    "\r\n",
    "close_prices = data[\"Close\"]\r\n",
    "print(\"Closing prices\")\r\n",
    "print(close_prices.head())\r\n",
    "\r\n",
    "last_price = close_prices.iloc[[-1]]\r\n",
    "print(last_price)\r\n",
    "\r\n",
    "\r\n",
    "# TODO"
   ],
   "outputs": [
    {
     "output_type": "stream",
     "name": "stdout",
     "text": [
      "         Date         Open         High          Low        Close  \\\n",
      "0  2020-11-09  3231.030029  3289.000000  3112.110107  3143.739990   \n",
      "1  2020-11-10  3095.020020  3114.000000  3019.479980  3035.020020   \n",
      "2  2020-11-11  3061.780029  3139.149902  3050.000000  3137.389893   \n",
      "3  2020-11-12  3159.949951  3175.879883  3086.050049  3110.280029   \n",
      "4  2020-11-13  3122.000000  3141.719971  3085.389893  3128.810059   \n",
      "\n",
      "     Adj Close   Volume  \n",
      "0  3143.739990  7190400  \n",
      "1  3035.020020  6591000  \n",
      "2  3137.389893  4366900  \n",
      "3  3110.280029  4362000  \n",
      "4  3128.810059  3756200  \n",
      "Closing prices\n",
      "0    3143.739990\n",
      "1    3035.020020\n",
      "2    3137.389893\n",
      "3    3110.280029\n",
      "4    3128.810059\n",
      "Name: Close, dtype: float64\n",
      "123    3291.610107\n",
      "Name: Close, dtype: float64\n"
     ]
    }
   ],
   "metadata": {}
  }
 ],
 "metadata": {
  "orig_nbformat": 4,
  "language_info": {
   "name": "python",
   "version": "3.8.8",
   "mimetype": "text/x-python",
   "codemirror_mode": {
    "name": "ipython",
    "version": 3
   },
   "pygments_lexer": "ipython3",
   "nbconvert_exporter": "python",
   "file_extension": ".py"
  },
  "kernelspec": {
   "name": "python3",
   "display_name": "Python 3.8.8 64-bit ('base': conda)"
  },
  "interpreter": {
   "hash": "381eb007a34d8c1cdb905850c2f3106cb914c7dd3c02e711b593e7e3b228bf2b"
  }
 },
 "nbformat": 4,
 "nbformat_minor": 2
}