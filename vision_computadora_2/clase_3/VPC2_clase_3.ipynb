{
  "nbformat": 4,
  "nbformat_minor": 0,
  "metadata": {
    "accelerator": "GPU",
    "colab": {
      "name": "VPC2_clase_3.ipynb",
      "provenance": [],
      "collapsed_sections": [],
      "authorship_tag": "ABX9TyPJb1mtTCIVyTA6szCQxpSW",
      "include_colab_link": true
    },
    "kernelspec": {
      "display_name": "Python 3",
      "name": "python3"
    },
    "language_info": {
      "name": "python"
    },
    "widgets": {
      "application/vnd.jupyter.widget-state+json": {
        "18040d7ce61949749257f10133fb46e7": {
          "model_module": "@jupyter-widgets/controls",
          "model_name": "HBoxModel",
          "model_module_version": "1.5.0",
          "state": {
            "_view_name": "HBoxView",
            "_dom_classes": [],
            "_model_name": "HBoxModel",
            "_view_module": "@jupyter-widgets/controls",
            "_model_module_version": "1.5.0",
            "_view_count": null,
            "_view_module_version": "1.5.0",
            "box_style": "",
            "layout": "IPY_MODEL_1fa92265a5584fc1a67426f575cd5afb",
            "_model_module": "@jupyter-widgets/controls",
            "children": [
              "IPY_MODEL_0aed976c49ce48a48c958b6b6c7675a5",
              "IPY_MODEL_f5759ef898874c4a856fce803ec58032",
              "IPY_MODEL_e9a9d3e9642a4668bfa8e0092f9182ba"
            ]
          }
        },
        "1fa92265a5584fc1a67426f575cd5afb": {
          "model_module": "@jupyter-widgets/base",
          "model_name": "LayoutModel",
          "model_module_version": "1.2.0",
          "state": {
            "_view_name": "LayoutView",
            "grid_template_rows": null,
            "right": null,
            "justify_content": null,
            "_view_module": "@jupyter-widgets/base",
            "overflow": null,
            "_model_module_version": "1.2.0",
            "_view_count": null,
            "flex_flow": null,
            "width": null,
            "min_width": null,
            "border": null,
            "align_items": null,
            "bottom": null,
            "_model_module": "@jupyter-widgets/base",
            "top": null,
            "grid_column": null,
            "overflow_y": null,
            "overflow_x": null,
            "grid_auto_flow": null,
            "grid_area": null,
            "grid_template_columns": null,
            "flex": null,
            "_model_name": "LayoutModel",
            "justify_items": null,
            "grid_row": null,
            "max_height": null,
            "align_content": null,
            "visibility": null,
            "align_self": null,
            "height": null,
            "min_height": null,
            "padding": null,
            "grid_auto_rows": null,
            "grid_gap": null,
            "max_width": null,
            "order": null,
            "_view_module_version": "1.2.0",
            "grid_template_areas": null,
            "object_position": null,
            "object_fit": null,
            "grid_auto_columns": null,
            "margin": null,
            "display": null,
            "left": null
          }
        },
        "0aed976c49ce48a48c958b6b6c7675a5": {
          "model_module": "@jupyter-widgets/controls",
          "model_name": "HTMLModel",
          "model_module_version": "1.5.0",
          "state": {
            "_view_name": "HTMLView",
            "style": "IPY_MODEL_cee95ffe44d8425cba7028e0920b8ce8",
            "_dom_classes": [],
            "description": "",
            "_model_name": "HTMLModel",
            "placeholder": "​",
            "_view_module": "@jupyter-widgets/controls",
            "_model_module_version": "1.5.0",
            "value": "100%",
            "_view_count": null,
            "_view_module_version": "1.5.0",
            "description_tooltip": null,
            "_model_module": "@jupyter-widgets/controls",
            "layout": "IPY_MODEL_875d2e38797c4fe286351c395ffb37a2"
          }
        },
        "f5759ef898874c4a856fce803ec58032": {
          "model_module": "@jupyter-widgets/controls",
          "model_name": "FloatProgressModel",
          "model_module_version": "1.5.0",
          "state": {
            "_view_name": "ProgressView",
            "style": "IPY_MODEL_e4fb2c2626fc42ed9ddb409e5470b441",
            "_dom_classes": [],
            "description": "",
            "_model_name": "FloatProgressModel",
            "bar_style": "success",
            "max": 46830571,
            "_view_module": "@jupyter-widgets/controls",
            "_model_module_version": "1.5.0",
            "value": 46830571,
            "_view_count": null,
            "_view_module_version": "1.5.0",
            "orientation": "horizontal",
            "min": 0,
            "description_tooltip": null,
            "_model_module": "@jupyter-widgets/controls",
            "layout": "IPY_MODEL_371da6fa6af9415d8c22dd78fe63cfa4"
          }
        },
        "e9a9d3e9642a4668bfa8e0092f9182ba": {
          "model_module": "@jupyter-widgets/controls",
          "model_name": "HTMLModel",
          "model_module_version": "1.5.0",
          "state": {
            "_view_name": "HTMLView",
            "style": "IPY_MODEL_7eafd0f12e6740c689b49cd11a0ff7fc",
            "_dom_classes": [],
            "description": "",
            "_model_name": "HTMLModel",
            "placeholder": "​",
            "_view_module": "@jupyter-widgets/controls",
            "_model_module_version": "1.5.0",
            "value": " 44.7M/44.7M [00:03&lt;00:00, 16.9MB/s]",
            "_view_count": null,
            "_view_module_version": "1.5.0",
            "description_tooltip": null,
            "_model_module": "@jupyter-widgets/controls",
            "layout": "IPY_MODEL_5c39bfff341d4bf09e61f4b20d7b2d0f"
          }
        },
        "cee95ffe44d8425cba7028e0920b8ce8": {
          "model_module": "@jupyter-widgets/controls",
          "model_name": "DescriptionStyleModel",
          "model_module_version": "1.5.0",
          "state": {
            "_view_name": "StyleView",
            "_model_name": "DescriptionStyleModel",
            "description_width": "",
            "_view_module": "@jupyter-widgets/base",
            "_model_module_version": "1.5.0",
            "_view_count": null,
            "_view_module_version": "1.2.0",
            "_model_module": "@jupyter-widgets/controls"
          }
        },
        "875d2e38797c4fe286351c395ffb37a2": {
          "model_module": "@jupyter-widgets/base",
          "model_name": "LayoutModel",
          "model_module_version": "1.2.0",
          "state": {
            "_view_name": "LayoutView",
            "grid_template_rows": null,
            "right": null,
            "justify_content": null,
            "_view_module": "@jupyter-widgets/base",
            "overflow": null,
            "_model_module_version": "1.2.0",
            "_view_count": null,
            "flex_flow": null,
            "width": null,
            "min_width": null,
            "border": null,
            "align_items": null,
            "bottom": null,
            "_model_module": "@jupyter-widgets/base",
            "top": null,
            "grid_column": null,
            "overflow_y": null,
            "overflow_x": null,
            "grid_auto_flow": null,
            "grid_area": null,
            "grid_template_columns": null,
            "flex": null,
            "_model_name": "LayoutModel",
            "justify_items": null,
            "grid_row": null,
            "max_height": null,
            "align_content": null,
            "visibility": null,
            "align_self": null,
            "height": null,
            "min_height": null,
            "padding": null,
            "grid_auto_rows": null,
            "grid_gap": null,
            "max_width": null,
            "order": null,
            "_view_module_version": "1.2.0",
            "grid_template_areas": null,
            "object_position": null,
            "object_fit": null,
            "grid_auto_columns": null,
            "margin": null,
            "display": null,
            "left": null
          }
        },
        "e4fb2c2626fc42ed9ddb409e5470b441": {
          "model_module": "@jupyter-widgets/controls",
          "model_name": "ProgressStyleModel",
          "model_module_version": "1.5.0",
          "state": {
            "_view_name": "StyleView",
            "_model_name": "ProgressStyleModel",
            "description_width": "",
            "_view_module": "@jupyter-widgets/base",
            "_model_module_version": "1.5.0",
            "_view_count": null,
            "_view_module_version": "1.2.0",
            "bar_color": null,
            "_model_module": "@jupyter-widgets/controls"
          }
        },
        "371da6fa6af9415d8c22dd78fe63cfa4": {
          "model_module": "@jupyter-widgets/base",
          "model_name": "LayoutModel",
          "model_module_version": "1.2.0",
          "state": {
            "_view_name": "LayoutView",
            "grid_template_rows": null,
            "right": null,
            "justify_content": null,
            "_view_module": "@jupyter-widgets/base",
            "overflow": null,
            "_model_module_version": "1.2.0",
            "_view_count": null,
            "flex_flow": null,
            "width": null,
            "min_width": null,
            "border": null,
            "align_items": null,
            "bottom": null,
            "_model_module": "@jupyter-widgets/base",
            "top": null,
            "grid_column": null,
            "overflow_y": null,
            "overflow_x": null,
            "grid_auto_flow": null,
            "grid_area": null,
            "grid_template_columns": null,
            "flex": null,
            "_model_name": "LayoutModel",
            "justify_items": null,
            "grid_row": null,
            "max_height": null,
            "align_content": null,
            "visibility": null,
            "align_self": null,
            "height": null,
            "min_height": null,
            "padding": null,
            "grid_auto_rows": null,
            "grid_gap": null,
            "max_width": null,
            "order": null,
            "_view_module_version": "1.2.0",
            "grid_template_areas": null,
            "object_position": null,
            "object_fit": null,
            "grid_auto_columns": null,
            "margin": null,
            "display": null,
            "left": null
          }
        },
        "7eafd0f12e6740c689b49cd11a0ff7fc": {
          "model_module": "@jupyter-widgets/controls",
          "model_name": "DescriptionStyleModel",
          "model_module_version": "1.5.0",
          "state": {
            "_view_name": "StyleView",
            "_model_name": "DescriptionStyleModel",
            "description_width": "",
            "_view_module": "@jupyter-widgets/base",
            "_model_module_version": "1.5.0",
            "_view_count": null,
            "_view_module_version": "1.2.0",
            "_model_module": "@jupyter-widgets/controls"
          }
        },
        "5c39bfff341d4bf09e61f4b20d7b2d0f": {
          "model_module": "@jupyter-widgets/base",
          "model_name": "LayoutModel",
          "model_module_version": "1.2.0",
          "state": {
            "_view_name": "LayoutView",
            "grid_template_rows": null,
            "right": null,
            "justify_content": null,
            "_view_module": "@jupyter-widgets/base",
            "overflow": null,
            "_model_module_version": "1.2.0",
            "_view_count": null,
            "flex_flow": null,
            "width": null,
            "min_width": null,
            "border": null,
            "align_items": null,
            "bottom": null,
            "_model_module": "@jupyter-widgets/base",
            "top": null,
            "grid_column": null,
            "overflow_y": null,
            "overflow_x": null,
            "grid_auto_flow": null,
            "grid_area": null,
            "grid_template_columns": null,
            "flex": null,
            "_model_name": "LayoutModel",
            "justify_items": null,
            "grid_row": null,
            "max_height": null,
            "align_content": null,
            "visibility": null,
            "align_self": null,
            "height": null,
            "min_height": null,
            "padding": null,
            "grid_auto_rows": null,
            "grid_gap": null,
            "max_width": null,
            "order": null,
            "_view_module_version": "1.2.0",
            "grid_template_areas": null,
            "object_position": null,
            "object_fit": null,
            "grid_auto_columns": null,
            "margin": null,
            "display": null,
            "left": null
          }
        },
        "6dc65176906f4c5190469c709452dd6a": {
          "model_module": "@jupyter-widgets/controls",
          "model_name": "HBoxModel",
          "model_module_version": "1.5.0",
          "state": {
            "_view_name": "HBoxView",
            "_dom_classes": [],
            "_model_name": "HBoxModel",
            "_view_module": "@jupyter-widgets/controls",
            "_model_module_version": "1.5.0",
            "_view_count": null,
            "_view_module_version": "1.5.0",
            "box_style": "",
            "layout": "IPY_MODEL_b40122f79e444c22bae8939edf8facfe",
            "_model_module": "@jupyter-widgets/controls",
            "children": [
              "IPY_MODEL_cb8e3457e1534b8c943fa8e3bf72318d",
              "IPY_MODEL_648332fd3b054ccba13453b1c9c48a81",
              "IPY_MODEL_36f93ed57ac3441289a1dfef2dec4ee0"
            ]
          }
        },
        "b40122f79e444c22bae8939edf8facfe": {
          "model_module": "@jupyter-widgets/base",
          "model_name": "LayoutModel",
          "model_module_version": "1.2.0",
          "state": {
            "_view_name": "LayoutView",
            "grid_template_rows": null,
            "right": null,
            "justify_content": null,
            "_view_module": "@jupyter-widgets/base",
            "overflow": null,
            "_model_module_version": "1.2.0",
            "_view_count": null,
            "flex_flow": null,
            "width": null,
            "min_width": null,
            "border": null,
            "align_items": null,
            "bottom": null,
            "_model_module": "@jupyter-widgets/base",
            "top": null,
            "grid_column": null,
            "overflow_y": null,
            "overflow_x": null,
            "grid_auto_flow": null,
            "grid_area": null,
            "grid_template_columns": null,
            "flex": null,
            "_model_name": "LayoutModel",
            "justify_items": null,
            "grid_row": null,
            "max_height": null,
            "align_content": null,
            "visibility": null,
            "align_self": null,
            "height": null,
            "min_height": null,
            "padding": null,
            "grid_auto_rows": null,
            "grid_gap": null,
            "max_width": null,
            "order": null,
            "_view_module_version": "1.2.0",
            "grid_template_areas": null,
            "object_position": null,
            "object_fit": null,
            "grid_auto_columns": null,
            "margin": null,
            "display": null,
            "left": null
          }
        },
        "cb8e3457e1534b8c943fa8e3bf72318d": {
          "model_module": "@jupyter-widgets/controls",
          "model_name": "HTMLModel",
          "model_module_version": "1.5.0",
          "state": {
            "_view_name": "HTMLView",
            "style": "IPY_MODEL_ee1d4d3e69074fd7b1dc8c5b82b344f9",
            "_dom_classes": [],
            "description": "",
            "_model_name": "HTMLModel",
            "placeholder": "​",
            "_view_module": "@jupyter-widgets/controls",
            "_model_module_version": "1.5.0",
            "value": "100%",
            "_view_count": null,
            "_view_module_version": "1.5.0",
            "description_tooltip": null,
            "_model_module": "@jupyter-widgets/controls",
            "layout": "IPY_MODEL_81c799365eec44b4bb97f7fd9ace1ec0"
          }
        },
        "648332fd3b054ccba13453b1c9c48a81": {
          "model_module": "@jupyter-widgets/controls",
          "model_name": "FloatProgressModel",
          "model_module_version": "1.5.0",
          "state": {
            "_view_name": "ProgressView",
            "style": "IPY_MODEL_ebde08d90dbb4df1bba91e76d46a2b0f",
            "_dom_classes": [],
            "description": "",
            "_model_name": "FloatProgressModel",
            "bar_style": "success",
            "max": 52147035,
            "_view_module": "@jupyter-widgets/controls",
            "_model_module_version": "1.5.0",
            "value": 52147035,
            "_view_count": null,
            "_view_module_version": "1.5.0",
            "orientation": "horizontal",
            "min": 0,
            "description_tooltip": null,
            "_model_module": "@jupyter-widgets/controls",
            "layout": "IPY_MODEL_7479cc63a0ff4b28bb1f13b10249474a"
          }
        },
        "36f93ed57ac3441289a1dfef2dec4ee0": {
          "model_module": "@jupyter-widgets/controls",
          "model_name": "HTMLModel",
          "model_module_version": "1.5.0",
          "state": {
            "_view_name": "HTMLView",
            "style": "IPY_MODEL_4dff1445e0b04f4ca569fe9d0e3c9406",
            "_dom_classes": [],
            "description": "",
            "_model_name": "HTMLModel",
            "placeholder": "​",
            "_view_module": "@jupyter-widgets/controls",
            "_model_module_version": "1.5.0",
            "value": " 49.7M/49.7M [00:00&lt;00:00, 86.5MB/s]",
            "_view_count": null,
            "_view_module_version": "1.5.0",
            "description_tooltip": null,
            "_model_module": "@jupyter-widgets/controls",
            "layout": "IPY_MODEL_e3375f930a914ea98e382ee1a8346415"
          }
        },
        "ee1d4d3e69074fd7b1dc8c5b82b344f9": {
          "model_module": "@jupyter-widgets/controls",
          "model_name": "DescriptionStyleModel",
          "model_module_version": "1.5.0",
          "state": {
            "_view_name": "StyleView",
            "_model_name": "DescriptionStyleModel",
            "description_width": "",
            "_view_module": "@jupyter-widgets/base",
            "_model_module_version": "1.5.0",
            "_view_count": null,
            "_view_module_version": "1.2.0",
            "_model_module": "@jupyter-widgets/controls"
          }
        },
        "81c799365eec44b4bb97f7fd9ace1ec0": {
          "model_module": "@jupyter-widgets/base",
          "model_name": "LayoutModel",
          "model_module_version": "1.2.0",
          "state": {
            "_view_name": "LayoutView",
            "grid_template_rows": null,
            "right": null,
            "justify_content": null,
            "_view_module": "@jupyter-widgets/base",
            "overflow": null,
            "_model_module_version": "1.2.0",
            "_view_count": null,
            "flex_flow": null,
            "width": null,
            "min_width": null,
            "border": null,
            "align_items": null,
            "bottom": null,
            "_model_module": "@jupyter-widgets/base",
            "top": null,
            "grid_column": null,
            "overflow_y": null,
            "overflow_x": null,
            "grid_auto_flow": null,
            "grid_area": null,
            "grid_template_columns": null,
            "flex": null,
            "_model_name": "LayoutModel",
            "justify_items": null,
            "grid_row": null,
            "max_height": null,
            "align_content": null,
            "visibility": null,
            "align_self": null,
            "height": null,
            "min_height": null,
            "padding": null,
            "grid_auto_rows": null,
            "grid_gap": null,
            "max_width": null,
            "order": null,
            "_view_module_version": "1.2.0",
            "grid_template_areas": null,
            "object_position": null,
            "object_fit": null,
            "grid_auto_columns": null,
            "margin": null,
            "display": null,
            "left": null
          }
        },
        "ebde08d90dbb4df1bba91e76d46a2b0f": {
          "model_module": "@jupyter-widgets/controls",
          "model_name": "ProgressStyleModel",
          "model_module_version": "1.5.0",
          "state": {
            "_view_name": "StyleView",
            "_model_name": "ProgressStyleModel",
            "description_width": "",
            "_view_module": "@jupyter-widgets/base",
            "_model_module_version": "1.5.0",
            "_view_count": null,
            "_view_module_version": "1.2.0",
            "bar_color": null,
            "_model_module": "@jupyter-widgets/controls"
          }
        },
        "7479cc63a0ff4b28bb1f13b10249474a": {
          "model_module": "@jupyter-widgets/base",
          "model_name": "LayoutModel",
          "model_module_version": "1.2.0",
          "state": {
            "_view_name": "LayoutView",
            "grid_template_rows": null,
            "right": null,
            "justify_content": null,
            "_view_module": "@jupyter-widgets/base",
            "overflow": null,
            "_model_module_version": "1.2.0",
            "_view_count": null,
            "flex_flow": null,
            "width": null,
            "min_width": null,
            "border": null,
            "align_items": null,
            "bottom": null,
            "_model_module": "@jupyter-widgets/base",
            "top": null,
            "grid_column": null,
            "overflow_y": null,
            "overflow_x": null,
            "grid_auto_flow": null,
            "grid_area": null,
            "grid_template_columns": null,
            "flex": null,
            "_model_name": "LayoutModel",
            "justify_items": null,
            "grid_row": null,
            "max_height": null,
            "align_content": null,
            "visibility": null,
            "align_self": null,
            "height": null,
            "min_height": null,
            "padding": null,
            "grid_auto_rows": null,
            "grid_gap": null,
            "max_width": null,
            "order": null,
            "_view_module_version": "1.2.0",
            "grid_template_areas": null,
            "object_position": null,
            "object_fit": null,
            "grid_auto_columns": null,
            "margin": null,
            "display": null,
            "left": null
          }
        },
        "4dff1445e0b04f4ca569fe9d0e3c9406": {
          "model_module": "@jupyter-widgets/controls",
          "model_name": "DescriptionStyleModel",
          "model_module_version": "1.5.0",
          "state": {
            "_view_name": "StyleView",
            "_model_name": "DescriptionStyleModel",
            "description_width": "",
            "_view_module": "@jupyter-widgets/base",
            "_model_module_version": "1.5.0",
            "_view_count": null,
            "_view_module_version": "1.2.0",
            "_model_module": "@jupyter-widgets/controls"
          }
        },
        "e3375f930a914ea98e382ee1a8346415": {
          "model_module": "@jupyter-widgets/base",
          "model_name": "LayoutModel",
          "model_module_version": "1.2.0",
          "state": {
            "_view_name": "LayoutView",
            "grid_template_rows": null,
            "right": null,
            "justify_content": null,
            "_view_module": "@jupyter-widgets/base",
            "overflow": null,
            "_model_module_version": "1.2.0",
            "_view_count": null,
            "flex_flow": null,
            "width": null,
            "min_width": null,
            "border": null,
            "align_items": null,
            "bottom": null,
            "_model_module": "@jupyter-widgets/base",
            "top": null,
            "grid_column": null,
            "overflow_y": null,
            "overflow_x": null,
            "grid_auto_flow": null,
            "grid_area": null,
            "grid_template_columns": null,
            "flex": null,
            "_model_name": "LayoutModel",
            "justify_items": null,
            "grid_row": null,
            "max_height": null,
            "align_content": null,
            "visibility": null,
            "align_self": null,
            "height": null,
            "min_height": null,
            "padding": null,
            "grid_auto_rows": null,
            "grid_gap": null,
            "max_width": null,
            "order": null,
            "_view_module_version": "1.2.0",
            "grid_template_areas": null,
            "object_position": null,
            "object_fit": null,
            "grid_auto_columns": null,
            "margin": null,
            "display": null,
            "left": null
          }
        }
      }
    }
  },
  "cells": [
    {
      "cell_type": "markdown",
      "metadata": {
        "id": "view-in-github",
        "colab_type": "text"
      },
      "source": [
        "<a href=\"https://colab.research.google.com/github/GonzaloRomeroR/CEIA/blob/master/vision_computadora_2/clase_3/VPC2_clase_3.ipynb\" target=\"_parent\"><img src=\"https://colab.research.google.com/assets/colab-badge.svg\" alt=\"Open In Colab\"/></a>"
      ]
    },
    {
      "cell_type": "markdown",
      "metadata": {
        "id": "jCRdqZN1SGOd"
      },
      "source": [
        "# Ejercicio: clase 3"
      ]
    },
    {
      "cell_type": "markdown",
      "metadata": {
        "id": "E0N8f0l4iLU9"
      },
      "source": [
        "Utilizando otro dataset, realizar transfer learning de otras arquitecturas disponibles y comparar resultados."
      ]
    },
    {
      "cell_type": "markdown",
      "metadata": {
        "id": "I-6aH3Uuyl0g"
      },
      "source": [
        "## Download dataset"
      ]
    },
    {
      "cell_type": "code",
      "metadata": {
        "colab": {
          "base_uri": "https://localhost:8080/"
        },
        "id": "sihQpObVo9Gu",
        "outputId": "ed7db6e1-442e-4df3-b318-48d3a3e2dc49"
      },
      "source": [
        "# Mount drive\n",
        "from google.colab import drive\n",
        "drive.mount('/content/drive')"
      ],
      "execution_count": 1,
      "outputs": [
        {
          "output_type": "stream",
          "name": "stdout",
          "text": [
            "Drive already mounted at /content/drive; to attempt to forcibly remount, call drive.mount(\"/content/drive\", force_remount=True).\n"
          ]
        }
      ]
    },
    {
      "cell_type": "code",
      "metadata": {
        "id": "JuPg4br7vu4f",
        "colab": {
          "resources": {
            "http://localhost:8080/nbextensions/google.colab/files.js": {
              "data": "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",
              "ok": true,
              "headers": [
                [
                  "content-type",
                  "application/javascript"
                ]
              ],
              "status": 200,
              "status_text": ""
            }
          },
          "base_uri": "https://localhost:8080/",
          "height": 91
        },
        "outputId": "d9718bc1-e9f1-429b-d5ae-deb922ca548c"
      },
      "source": [
        "# Get kaggle json file\n",
        "from google.colab import files\n",
        "files.upload()\n",
        "\n",
        "!pip install -q kaggle\n",
        "!mkdir -p ~/.kaggle\n",
        "!cp kaggle.json ~/.kaggle/\n",
        "!ls ~/.kaggle\n",
        "!chmod 600 /root/.kaggle/kaggle.json"
      ],
      "execution_count": 45,
      "outputs": [
        {
          "output_type": "display_data",
          "data": {
            "text/html": [
              "\n",
              "     <input type=\"file\" id=\"files-8898d903-2da7-4390-8e41-8866061e98ee\" name=\"files[]\" multiple disabled\n",
              "        style=\"border:none\" />\n",
              "     <output id=\"result-8898d903-2da7-4390-8e41-8866061e98ee\">\n",
              "      Upload widget is only available when the cell has been executed in the\n",
              "      current browser session. Please rerun this cell to enable.\n",
              "      </output>\n",
              "      <script src=\"/nbextensions/google.colab/files.js\"></script> "
            ],
            "text/plain": [
              "<IPython.core.display.HTML object>"
            ]
          },
          "metadata": {}
        },
        {
          "output_type": "stream",
          "name": "stdout",
          "text": [
            "Saving kaggle.json to kaggle.json\n",
            "kaggle.json\n"
          ]
        }
      ]
    },
    {
      "cell_type": "code",
      "metadata": {
        "id": "ElTjBvYWwaWW",
        "colab": {
          "base_uri": "https://localhost:8080/"
        },
        "outputId": "fd7fe569-051a-4e1b-a378-2c9f0a9b46d3"
      },
      "source": [
        "!kaggle datasets download -d alessiocorrado99/animals10 -p \"./drive/My Drive/datasets/Animals-10\""
      ],
      "execution_count": 46,
      "outputs": [
        {
          "output_type": "stream",
          "name": "stdout",
          "text": [
            "Downloading animals10.zip to ./drive/My Drive/datasets/Animals-10\n",
            " 98% 575M/586M [00:06<00:00, 96.9MB/s]\n",
            "100% 586M/586M [00:06<00:00, 91.5MB/s]\n"
          ]
        }
      ]
    },
    {
      "cell_type": "code",
      "metadata": {
        "id": "TLODlvJyw95-",
        "colab": {
          "base_uri": "https://localhost:8080/"
        },
        "outputId": "04743ef0-0d05-4d6d-fcf4-de4ba575df4c"
      },
      "source": [
        "!kaggle datasets list -s Animals-10"
      ],
      "execution_count": 47,
      "outputs": [
        {
          "output_type": "stream",
          "name": "stdout",
          "text": [
            "Warning: Looks like you're using an outdated API Version, please consider updating (server 1.5.12 / client 1.5.4)\n",
            "ref                                                           title                                         size  lastUpdated          downloadCount  \n",
            "------------------------------------------------------------  -------------------------------------------  -----  -------------------  -------------  \n",
            "alessiocorrado99/animals10                                    Animals-10                                   586MB  2019-12-12 20:46:33          19101  \n",
            "agajorte/zoo-animals-extended-dataset                         Zoo Animals Extended Dataset                   2KB  2019-06-02 16:22:31           3064  \n",
            "viratkothari/animal10                                         Animals-10                                   585MB  2020-09-17 18:56:19            443  \n",
            "vishweshsalodkar/wild-animals                                  Wild Animals                                  7MB  2021-07-29 16:48:17            329  \n",
            "hessahalkhattabi/animals                                      Animals                                       21KB  2020-04-18 11:18:42            413  \n",
            "iamsouravbanerjee/animal-image-dataset-90-different-animals   Animal Image Dataset (90 Different Animals)  656MB  2021-08-29 12:53:50            574  \n",
            "uciml/zoo-animal-classification                               Zoo Animal Classification                      2KB  2016-12-24 18:05:10          25260  \n",
            "pratik2901/animal-dataset                                     Recognize Animals                            225MB  2020-10-02 05:07:37            669  \n",
            "antoreepjana/animals-detection-images-dataset                 Animals Detection Images Dataset               9GB  2021-05-05 18:07:46            883  \n",
            "aaronschlegel/austin-animal-center-shelter-outcomes-and       Austin Animal Center Shelter Outcomes          3MB  2018-02-16 17:39:55           5733  \n",
            "jinbonnie/animal-data                                         Animal Care and Control Adopted Animals      280KB  2020-11-02 16:17:46            555  \n",
            "jessicali9530/stl10                                           STL-10 Image Recognition Dataset               2GB  2018-06-11 03:02:24           3196  \n",
            "jessicali9530/animal-crossing-new-horizons-nookplaza-dataset  Animal Crossing New Horizons Catalog         577KB  2021-06-08 15:05:09          10513  \n",
            "jerrinbright/cheetahtigerwolf                                 ANIMALS                                        3GB  2020-06-22 11:50:53            318  \n",
            "techsash/waste-classification-data                            Waste Classification data                    427MB  2019-06-16 03:24:52          10087  \n",
            "antoreepjana/iucn-animals-dataset                             IUCN Animals Dataset                          30MB  2021-02-20 03:35:14            101  \n",
            "sudalairajkumar/covid19-in-india                              COVID-19 in India                            758KB  2021-08-11 04:14:10         137992  \n",
            "dorbicycle/world-foodfeed-production                          Who eats the food we grow?                   874KB  2017-11-30 06:32:35          12035  \n",
            "mpwolke/cusersmarildownloadstigerjpg                          Hugging Tigress, Hidden Tree                 385KB  2020-10-28 12:03:03             12  \n",
            "biancaferreira/african-wildlife                               African Wildlife                             448MB  2020-05-25 13:42:19           1804  \n"
          ]
        }
      ]
    },
    {
      "cell_type": "code",
      "metadata": {
        "id": "S2lANTfyxzKE",
        "colab": {
          "base_uri": "https://localhost:8080/"
        },
        "outputId": "d4722617-9c9a-4469-bac9-c9fdb106465d"
      },
      "source": [
        "!kaggle datasets download -h"
      ],
      "execution_count": 48,
      "outputs": [
        {
          "output_type": "stream",
          "name": "stdout",
          "text": [
            "usage: kaggle datasets download [-h] [-f FILE_NAME] [-p PATH] [-w] [--unzip]\n",
            "                                [-o] [-q]\n",
            "                                [dataset]\n",
            "\n",
            "optional arguments:\n",
            "  -h, --help            show this help message and exit\n",
            "  dataset               Dataset URL suffix in format <owner>/<dataset-name> (use \"kaggle datasets list\" to show options)\n",
            "  -f FILE_NAME, --file FILE_NAME\n",
            "                        File name, all files downloaded if not provided\n",
            "                        (use \"kaggle datasets files -d <dataset>\" to show options)\n",
            "  -p PATH, --path PATH  Folder where file(s) will be downloaded, defaults to current working directory\n",
            "  -w, --wp              Download files to current working path\n",
            "  --unzip               Unzip the downloaded file. Will delete the zip file when completed.\n",
            "  -o, --force           Skip check whether local version of file is up to date, force file download\n",
            "  -q, --quiet           Suppress printing information about the upload/download progress\n"
          ]
        }
      ]
    },
    {
      "cell_type": "code",
      "metadata": {
        "colab": {
          "base_uri": "https://localhost:8080/"
        },
        "id": "b4kLJexVyj4N",
        "outputId": "f48ea0ee-7841-4f8e-94eb-cbe81f2a6bfa"
      },
      "source": [
        "import os\n",
        "os.chdir('./drive/My Drive/datasets/Animals-10') \n",
        "!unzip -q animals10.zip -d animals10\n"
      ],
      "execution_count": 6,
      "outputs": [
        {
          "output_type": "stream",
          "name": "stdout",
          "text": [
            "replace animals10/raw-img/cane/OIF-e2bexWrojgtQnAPPcUfOWQ.jpeg? [y]es, [n]o, [A]ll, [N]one, [r]ename: "
          ]
        }
      ]
    },
    {
      "cell_type": "markdown",
      "metadata": {
        "id": "gP2pwC3OcGhJ"
      },
      "source": [
        "## Load data"
      ]
    },
    {
      "cell_type": "code",
      "metadata": {
        "id": "cYqZlF_jiEgh"
      },
      "source": [
        "# Import libraries\n",
        "import torch\n",
        "from torch import nn\n",
        "import pandas as pd\n",
        "import time\n",
        "import os\n",
        "import copy\n",
        "import matplotlib.pyplot as plt\n",
        "from torch.utils.data import TensorDataset, DataLoader, Dataset, Subset\n",
        "import torchvision.datasets as datasets\n",
        "from torchvision import transforms, models\n",
        "import torchvision\n",
        "import numpy as np\n",
        "import torch.optim as optim\n",
        "import torch.nn.functional as F\n",
        "from torch.optim import lr_scheduler\n"
      ],
      "execution_count": 7,
      "outputs": []
    },
    {
      "cell_type": "code",
      "metadata": {
        "id": "wW4BfYCAkiUw"
      },
      "source": [
        "# Load data\n",
        "#os.chdir('./drive/My Drive/datasets/Animals-10') \n",
        "DIRECTORY = './animals10/raw-img/'\n",
        "dataset = datasets.ImageFolder(DIRECTORY)\n",
        "\n",
        "\n",
        "train_size = int(len(dataset) * 0.8)\n",
        "val_size = int(len(dataset) * 0.1)\n",
        "test_size = len(dataset) - train_size - val_size\n",
        "\n",
        "train, val, test = torch.utils.data.random_split(dataset, [train_size, val_size, test_size])\n",
        "\n",
        "reduce = 0.1\n",
        "train = Subset(train, np.arange(int(train_size * reduce)))\n",
        "val = Subset(val, np.arange(int(val_size * reduce)))\n",
        "test = Subset(test, np.arange(int(test_size * reduce)))\n"
      ],
      "execution_count": 8,
      "outputs": []
    },
    {
      "cell_type": "code",
      "metadata": {
        "id": "ZI-l4rDue4e2"
      },
      "source": [
        "# Se definen las transformaciones para hacer data augmentation\n",
        "torchvision_transform = transforms.Compose([\n",
        "    transforms.Resize([128, 128]),\n",
        "    transforms.RandomHorizontalFlip(),\n",
        "    transforms.RandomRotation(45),\n",
        "    transforms.ToTensor(),\n",
        "    transforms.Normalize(mean=[0.485, 0.456, 0.406], std=[0.229, 0.224, 0.225])\n",
        "])"
      ],
      "execution_count": 9,
      "outputs": []
    },
    {
      "cell_type": "code",
      "metadata": {
        "id": "MOsqvF8V_ESU"
      },
      "source": [
        "# Se define el dataset\n",
        "class CustomDataset(Dataset):\n",
        "  def __init__(self, dataset, transform=None):\n",
        "    super().__init__()\n",
        "    self.dataset = dataset\n",
        "    self.transform = transform\n",
        "\n",
        "  def __len__(self):\n",
        "    return len(self.dataset)\n",
        "  \n",
        "  def __getitem__(self, idx):\n",
        "    x = self.dataset[idx][0]\n",
        "    if self.transform:\n",
        "      x = self.transform(x)\n",
        "    y = self.dataset[idx][1]\n",
        "    return x, y\n",
        "     "
      ],
      "execution_count": 10,
      "outputs": []
    },
    {
      "cell_type": "code",
      "metadata": {
        "id": "cfOM9lPWc1Rz"
      },
      "source": [
        "# Se definen los parámetros de entrenamiento\n",
        "params = {'batch_size': 64,\n",
        "          'shuffle': True,\n",
        "          }\n",
        "\n",
        "# Se generan los datasets y dataloaders\n",
        "train_set = CustomDataset(train, torchvision_transform)\n",
        "val_set = CustomDataset(val, torchvision_transform)\n",
        "test_set = CustomDataset(test, torchvision_transform)\n",
        "\n",
        "train_loader = torch.utils.data.DataLoader(train_set, **params)\n",
        "val_loader = torch.utils.data.DataLoader(val_set, **params)\n",
        "test_loader = torch.utils.data.DataLoader(test_set, **params)"
      ],
      "execution_count": 11,
      "outputs": []
    },
    {
      "cell_type": "code",
      "metadata": {
        "colab": {
          "base_uri": "https://localhost:8080/"
        },
        "id": "mR4KhwHkVEfq",
        "outputId": "db888a0d-4a9c-458e-dcdd-757a5650be9e"
      },
      "source": [
        "len(val_set)"
      ],
      "execution_count": 12,
      "outputs": [
        {
          "output_type": "execute_result",
          "data": {
            "text/plain": [
              "261"
            ]
          },
          "metadata": {},
          "execution_count": 12
        }
      ]
    },
    {
      "cell_type": "code",
      "metadata": {
        "id": "PCfamhWwjWkv"
      },
      "source": [
        "def idx_to_class(idx_dict, value):\n",
        "  inv_dict = {v: k for k, v in idx_dict.items()}\n",
        "  return inv_dict[value]"
      ],
      "execution_count": 13,
      "outputs": []
    },
    {
      "cell_type": "code",
      "metadata": {
        "colab": {
          "base_uri": "https://localhost:8080/",
          "height": 150
        },
        "id": "dQEtZA57fXrc",
        "outputId": "78221199-893b-45b3-90f7-f0a32fbeab23"
      },
      "source": [
        "# Se imprimen algunas imágenes\n",
        "def imshow(inp, title=None):\n",
        "    inp = inp.numpy().transpose((1, 2, 0))\n",
        "    plt.imshow(inp)\n",
        "    if title is not None:\n",
        "        plt.title(title)\n",
        "\n",
        "num_images = 5\n",
        "\n",
        "# Get a batch of training data\n",
        "inputs, classes = next(iter(train_loader))\n",
        "\n",
        "# Make a grid from batch\n",
        "out = torchvision.utils.make_grid(inputs[:num_images])\n",
        "imshow(out, title=[idx_to_class(dataset.class_to_idx, value.item()) for value in classes[:num_images]])"
      ],
      "execution_count": 14,
      "outputs": [
        {
          "output_type": "stream",
          "name": "stderr",
          "text": [
            "Clipping input data to the valid range for imshow with RGB data ([0..1] for floats or [0..255] for integers).\n"
          ]
        },
        {
          "output_type": "display_data",
          "data": {
            "image/png": "[encoded data removed]",
            "text/plain": [
              "<Figure size 432x288 with 1 Axes>"
            ]
          },
          "metadata": {
            "needs_background": "light"
          }
        }
      ]
    },
    {
      "cell_type": "code",
      "metadata": {
        "id": "4gS7W_htmMxv"
      },
      "source": [
        "# Create model\n",
        "\n",
        "class Net(nn.Module):\n",
        "    def __init__(self):\n",
        "        super().__init__()\n",
        "        self.resnet18 = models.resnet18(pretrained=True)\n",
        "        for param in self.resnet18.parameters():\n",
        "          param.requires_grad = False\n",
        "        self.fc1 = nn.Linear(1000, 120)\n",
        "        self.fc2 = nn.Linear(120, 84)\n",
        "        self.fc3 = nn.Linear(84, 10)\n",
        "\n",
        "    def forward(self, x):\n",
        "        x = self.resnet18(x)\n",
        "        x = self.fc1(x)\n",
        "        x = self.fc2(x)\n",
        "        x = self.fc3(x)\n",
        "        return x"
      ],
      "execution_count": 15,
      "outputs": []
    },
    {
      "cell_type": "code",
      "metadata": {
        "id": "TtLSAAFumKNs",
        "colab": {
          "base_uri": "https://localhost:8080/",
          "height": 86,
          "referenced_widgets": [
            "18040d7ce61949749257f10133fb46e7",
            "1fa92265a5584fc1a67426f575cd5afb",
            "0aed976c49ce48a48c958b6b6c7675a5",
            "f5759ef898874c4a856fce803ec58032",
            "e9a9d3e9642a4668bfa8e0092f9182ba",
            "cee95ffe44d8425cba7028e0920b8ce8",
            "875d2e38797c4fe286351c395ffb37a2",
            "e4fb2c2626fc42ed9ddb409e5470b441",
            "371da6fa6af9415d8c22dd78fe63cfa4",
            "7eafd0f12e6740c689b49cd11a0ff7fc",
            "5c39bfff341d4bf09e61f4b20d7b2d0f"
          ]
        },
        "outputId": "dba3edeb-05dc-4e90-c91a-882ece07c7fe"
      },
      "source": [
        "model = Net()"
      ],
      "execution_count": 16,
      "outputs": [
        {
          "output_type": "stream",
          "name": "stderr",
          "text": [
            "Downloading: \"https://download.pytorch.org/models/resnet18-f37072fd.pth\" to /root/.cache/torch/hub/checkpoints/resnet18-f37072fd.pth\n"
          ]
        },
        {
          "output_type": "display_data",
          "data": {
            "application/vnd.jupyter.widget-view+json": {
              "model_id": "18040d7ce61949749257f10133fb46e7",
              "version_minor": 0,
              "version_major": 2
            },
            "text/plain": [
              "  0%|          | 0.00/44.7M [00:00<?, ?B/s]"
            ]
          },
          "metadata": {}
        }
      ]
    },
    {
      "cell_type": "code",
      "metadata": {
        "id": "uLGnC4p2SrE8"
      },
      "source": [
        "def print_parameters(model):\n",
        "  # Find total parameters and trainable parameters\n",
        "  total_params = sum(p.numel() for p in model.parameters())\n",
        "  print(f'{total_params:,} total parameters.')\n",
        "  total_trainable_params = sum(\n",
        "      p.numel() for p in model.parameters() if p.requires_grad)\n",
        "  print(f'{total_trainable_params:,} training parameters.')"
      ],
      "execution_count": 17,
      "outputs": []
    },
    {
      "cell_type": "markdown",
      "metadata": {
        "id": "ACFBDa8Ygul7"
      },
      "source": [
        "### Resnet 50"
      ]
    },
    {
      "cell_type": "code",
      "metadata": {
        "colab": {
          "base_uri": "https://localhost:8080/"
        },
        "id": "7sDfwbh3LtJ4",
        "outputId": "1c34b439-a4d3-46c0-df1b-35970d524a48"
      },
      "source": [
        "res_50_model = models.resnet50(pretrained=True)\n",
        "\n",
        "# freeze all layers in pretrained model\n",
        "for name, param in res_50_model.named_parameters():\n",
        "    param.requires_grad = False\n",
        "    \n",
        "# replace last layer \n",
        "res_50_model.fc = nn.Sequential(\n",
        "    nn.Linear(res_50_model.fc.in_features, 500),\n",
        "    nn.ReLU(),\n",
        "    nn.Dropout(), \n",
        "    nn.Linear(500, 10)\n",
        ")\n",
        "\n",
        "dataloaders = {\"train\": train_loader, \"val\": val_loader,}\n",
        "criterion = nn.CrossEntropyLoss()\n",
        "optimizer = optim.Adam(res_50_model.parameters(), lr=0.0003, amsgrad=True)\n",
        "\n",
        "print_parameters(res_50_model)\n",
        "model = res_50_model"
      ],
      "execution_count": 18,
      "outputs": [
        {
          "output_type": "stream",
          "name": "stdout",
          "text": [
            "24,537,542 total parameters.\n",
            "1,029,510 training parameters.\n"
          ]
        }
      ]
    },
    {
      "cell_type": "code",
      "metadata": {
        "id": "fd7vAOaMwfS2"
      },
      "source": [
        "def fit(model, criterion, optimizer, dataloaders, epochs=50):\n",
        "  # Se entrena el modelo\n",
        "  device = torch.device(\"cuda\" if torch.cuda.is_available() else \"cpu\")\n",
        "  print(device)\n",
        "  if torch.cuda.is_available():\n",
        "    model.cuda()\n",
        "  losses_train = []\n",
        "  losses_val = []\n",
        "  running_loss = 0.0\n",
        "  for epoch in range(epochs):\n",
        "      model.train()\n",
        "      running_loss = 0.0\n",
        "      correct = 0\n",
        "      correct_val = 0\n",
        "      model = model.train()\n",
        "      for i, data in enumerate(dataloaders[\"train\"]):\n",
        "          inputs, labels = data\n",
        "          inputs = inputs.to(device)\n",
        "          labels = labels.to(device)\n",
        "          optimizer.zero_grad()\n",
        "          outputs = model(inputs)\n",
        "          loss = criterion(outputs, labels)\n",
        "          loss.backward()\n",
        "          _, preds = torch.max(outputs, 1)\n",
        "          optimizer.step()\n",
        "          running_loss += loss.item()\n",
        "          correct += (preds == labels).float().sum()\n",
        "      model = model.eval() \n",
        "      with torch.no_grad():\n",
        "        valid_loss = 0.0\n",
        "        for i, data in enumerate(dataloaders[\"val\"]):\n",
        "            inputs, labels = data\n",
        "            inputs = inputs.to(device)\n",
        "            labels = labels.to(device)\n",
        "            outputs = model(inputs)\n",
        "            loss = criterion(outputs, labels)\n",
        "            valid_loss += loss.item()\n",
        "            _, preds = torch.max(outputs, 1)\n",
        "            correct_val += (preds == labels).float().sum()\n",
        "\n",
        "\n",
        "      print('[%d] training loss: %.5f, validation loss: %.5f' %(epoch + 1, running_loss / len(train_loader), valid_loss / len(val_loader)), end=\"\")\n",
        "      print(\", train accuracy {}, val accuracy {}\".format(100 * correct / len(train_set), 100 * correct_val / len(val_set)))\n",
        "      losses_train.append(running_loss / len(train_loader))\n",
        "      losses_val.append(valid_loss / len(val_loader))\n",
        "  return losses_train, losses_val"
      ],
      "execution_count": 21,
      "outputs": []
    },
    {
      "cell_type": "code",
      "metadata": {
        "colab": {
          "base_uri": "https://localhost:8080/"
        },
        "id": "FJv4co0GQGcB",
        "outputId": "5cc3f9c1-8493-4b5f-df92-0037ba2fdef1"
      },
      "source": [
        "losses_train, losses_val = fit(res_50_model, criterion, optimizer, dataloaders)"
      ],
      "execution_count": 23,
      "outputs": [
        {
          "output_type": "stream",
          "name": "stdout",
          "text": [
            "cuda\n",
            "[1] training loss: 0.67486, validation loss: 0.68571, train accuracy 78.7010498046875, val accuracy 78.54405975341797\n",
            "[2] training loss: 0.63903, validation loss: 0.73681, train accuracy 77.88920593261719, val accuracy 78.16091918945312\n",
            "[3] training loss: 0.62551, validation loss: 0.65999, train accuracy 79.75167083740234, val accuracy 80.84291076660156\n",
            "[4] training loss: 0.60017, validation loss: 0.59862, train accuracy 80.56351470947266, val accuracy 81.9923324584961\n",
            "[5] training loss: 0.57536, validation loss: 0.70658, train accuracy 80.99331665039062, val accuracy 80.45977020263672\n",
            "[6] training loss: 0.57472, validation loss: 0.70358, train accuracy 80.37248992919922, val accuracy 77.77777862548828\n",
            "[7] training loss: 0.57399, validation loss: 0.52918, train accuracy 81.42311096191406, val accuracy 81.9923324584961\n",
            "[8] training loss: 0.55741, validation loss: 0.59051, train accuracy 81.18433380126953, val accuracy 79.31034088134766\n",
            "[9] training loss: 0.52625, validation loss: 0.73274, train accuracy 83.38108825683594, val accuracy 80.45977020263672\n",
            "[10] training loss: 0.53476, validation loss: 0.62388, train accuracy 81.80516052246094, val accuracy 78.54405975341797\n",
            "[11] training loss: 0.50960, validation loss: 0.55355, train accuracy 83.1900634765625, val accuracy 78.92720031738281\n",
            "[12] training loss: 0.50952, validation loss: 0.61799, train accuracy 83.1423110961914, val accuracy 77.77777862548828\n",
            "[13] training loss: 0.50169, validation loss: 0.60077, train accuracy 82.23495483398438, val accuracy 78.54405975341797\n",
            "[14] training loss: 0.49490, validation loss: 0.57953, train accuracy 82.95128631591797, val accuracy 77.3946304321289\n",
            "[15] training loss: 0.47796, validation loss: 0.76766, train accuracy 84.04966735839844, val accuracy 79.31034088134766\n",
            "[16] training loss: 0.51115, validation loss: 0.58994, train accuracy 82.13944244384766, val accuracy 78.16091918945312\n",
            "[17] training loss: 0.48016, validation loss: 0.48518, train accuracy 83.90640258789062, val accuracy 78.54405975341797\n",
            "[18] training loss: 0.48520, validation loss: 0.59649, train accuracy 83.1423110961914, val accuracy 79.6934814453125\n",
            "[19] training loss: 0.49758, validation loss: 0.53142, train accuracy 83.09455871582031, val accuracy 81.60919189453125\n",
            "[20] training loss: 0.47840, validation loss: 0.61638, train accuracy 84.5272216796875, val accuracy 78.54405975341797\n",
            "[21] training loss: 0.45985, validation loss: 0.58436, train accuracy 84.62273406982422, val accuracy 79.31034088134766\n",
            "[22] training loss: 0.45953, validation loss: 0.56161, train accuracy 85.19580078125, val accuracy 79.31034088134766\n",
            "[23] training loss: 0.46875, validation loss: 0.70852, train accuracy 84.04966735839844, val accuracy 78.54405975341797\n",
            "[24] training loss: 0.46001, validation loss: 0.50316, train accuracy 84.28844451904297, val accuracy 80.84291076660156\n",
            "[25] training loss: 0.42515, validation loss: 0.61102, train accuracy 85.53008270263672, val accuracy 79.6934814453125\n",
            "[26] training loss: 0.43824, validation loss: 0.62321, train accuracy 85.05252838134766, val accuracy 76.62834930419922\n",
            "[27] training loss: 0.46001, validation loss: 0.50001, train accuracy 84.33619689941406, val accuracy 82.37548065185547\n",
            "[28] training loss: 0.43239, validation loss: 0.59315, train accuracy 84.90926361083984, val accuracy 81.60919189453125\n",
            "[29] training loss: 0.41585, validation loss: 0.56581, train accuracy 85.53008270263672, val accuracy 81.9923324584961\n",
            "[30] training loss: 0.39644, validation loss: 0.57287, train accuracy 86.15090942382812, val accuracy 78.92720031738281\n",
            "[31] training loss: 0.42332, validation loss: 0.68417, train accuracy 85.62559509277344, val accuracy 81.9923324584961\n",
            "[32] training loss: 0.40376, validation loss: 0.68140, train accuracy 86.38968658447266, val accuracy 80.45977020263672\n",
            "[33] training loss: 0.39930, validation loss: 0.79208, train accuracy 86.29417419433594, val accuracy 78.16091918945312\n",
            "[34] training loss: 0.40165, validation loss: 0.78401, train accuracy 86.7239761352539, val accuracy 79.31034088134766\n",
            "[35] training loss: 0.39803, validation loss: 0.60659, train accuracy 85.67335510253906, val accuracy 76.62834930419922\n",
            "[36] training loss: 0.38803, validation loss: 0.87337, train accuracy 86.96275329589844, val accuracy 78.92720031738281\n",
            "[37] training loss: 0.40055, validation loss: 0.53103, train accuracy 86.19866180419922, val accuracy 81.60919189453125\n",
            "[38] training loss: 0.40500, validation loss: 0.51999, train accuracy 86.0553970336914, val accuracy 80.45977020263672\n",
            "[39] training loss: 0.38536, validation loss: 0.69064, train accuracy 86.771728515625, val accuracy 80.07662963867188\n",
            "[40] training loss: 0.40061, validation loss: 0.75060, train accuracy 86.19866180419922, val accuracy 81.60919189453125\n",
            "[41] training loss: 0.40117, validation loss: 0.53320, train accuracy 86.0553970336914, val accuracy 79.31034088134766\n",
            "[42] training loss: 0.40463, validation loss: 0.53403, train accuracy 86.8194808959961, val accuracy 80.84291076660156\n",
            "[43] training loss: 0.36221, validation loss: 0.55325, train accuracy 87.39254760742188, val accuracy 81.9923324584961\n",
            "[44] training loss: 0.38289, validation loss: 0.80443, train accuracy 86.86724090576172, val accuracy 80.07662963867188\n",
            "[45] training loss: 0.39799, validation loss: 0.73329, train accuracy 85.48233032226562, val accuracy 78.92720031738281\n",
            "[46] training loss: 0.37515, validation loss: 0.97760, train accuracy 87.34479522705078, val accuracy 78.54405975341797\n",
            "[47] training loss: 0.39833, validation loss: 0.73496, train accuracy 86.29417419433594, val accuracy 79.31034088134766\n",
            "[48] training loss: 0.36787, validation loss: 0.51002, train accuracy 87.82234954833984, val accuracy 80.07662963867188\n",
            "[49] training loss: 0.34378, validation loss: 0.78724, train accuracy 87.58357238769531, val accuracy 80.84291076660156\n",
            "[50] training loss: 0.36348, validation loss: 0.61035, train accuracy 86.86724090576172, val accuracy 81.2260513305664\n"
          ]
        }
      ]
    },
    {
      "cell_type": "code",
      "metadata": {
        "id": "h7OeboD2sPQ4"
      },
      "source": [
        "def plot_losses(losses, title=\"train\"):\n",
        "  # Se grafica el error de entrenamiento\n",
        "  plt.plot(losses)\n",
        "  plt.title(f\"{title} loss\")\n",
        "  plt.ylabel(\"loss\")\n",
        "  plt.xlabel(\"epoch\")\n",
        "  plt.grid()"
      ],
      "execution_count": 29,
      "outputs": []
    },
    {
      "cell_type": "code",
      "metadata": {
        "colab": {
          "base_uri": "https://localhost:8080/",
          "height": 295
        },
        "id": "EOYelET4Pkb5",
        "outputId": "8a077966-e9d0-4e32-d138-d5a03c0530b5"
      },
      "source": [
        "plot_losses(losses_train)"
      ],
      "execution_count": 30,
      "outputs": [
        {
          "output_type": "display_data",
          "data": {
            "image/png": "[encoded data removed]",
            "text/plain": [
              "<Figure size 432x288 with 1 Axes>"
            ]
          },
          "metadata": {
            "needs_background": "light"
          }
        }
      ]
    },
    {
      "cell_type": "code",
      "metadata": {
        "colab": {
          "base_uri": "https://localhost:8080/",
          "height": 295
        },
        "id": "TeohJnFFf3j0",
        "outputId": "51c1d859-b5a3-4607-b892-bee73f40fd30"
      },
      "source": [
        "plot_losses(losses_val, title=\"val\")\n"
      ],
      "execution_count": 32,
      "outputs": [
        {
          "output_type": "display_data",
          "data": {
            "image/png": "[encoded data removed]",
            "text/plain": [
              "<Figure size 432x288 with 1 Axes>"
            ]
          },
          "metadata": {
            "needs_background": "light"
          }
        }
      ]
    },
    {
      "cell_type": "code",
      "metadata": {
        "colab": {
          "base_uri": "https://localhost:8080/"
        },
        "id": "sL37zolxnLxD",
        "outputId": "3917ee06-cafc-490a-c64e-dcd2cea5296d"
      },
      "source": [
        "device = torch.device(\"cuda\" if torch.cuda.is_available() else \"cpu\")\n",
        "correct = 0\n",
        "total = 0\n",
        "with torch.no_grad():\n",
        "    for data in test_loader:\n",
        "        inputs, labels = data\n",
        "        inputs = inputs.to(device)\n",
        "        labels = labels.to(device)\n",
        "        outputs = model(inputs)\n",
        "        _, predicted = torch.max(outputs.data, 1)\n",
        "        total += labels.size(0)\n",
        "        correct += (predicted == labels).sum().item()\n",
        "\n",
        "print('Accuracy of the network test images: {:.2f}'.format(correct / total))"
      ],
      "execution_count": 33,
      "outputs": [
        {
          "output_type": "stream",
          "name": "stdout",
          "text": [
            "Accuracy of the network test images: 0.84\n"
          ]
        }
      ]
    },
    {
      "cell_type": "code",
      "metadata": {
        "colab": {
          "base_uri": "https://localhost:8080/"
        },
        "id": "nAnQYQERtSqD",
        "outputId": "ffd0627f-5032-4a6c-ea69-67cb06af00bf"
      },
      "source": [
        "classes = test.dataset.dataset.classes\n",
        "correct_pred = {classname: 0 for classname in classes}\n",
        "total_pred = {classname: 0 for classname in classes}\n",
        "\n",
        "with torch.no_grad():\n",
        "    for data in test_loader:\n",
        "        inputs, labels = data\n",
        "        inputs = inputs.to(device)\n",
        "        labels = labels.to(device)\n",
        "        outputs = model(inputs)\n",
        "        _, predictions = torch.max(outputs, 1)\n",
        "        for label, prediction in zip(labels, predictions):\n",
        "            if label == prediction:\n",
        "                correct_pred[classes[label]] += 1\n",
        "            total_pred[classes[label]] += 1\n",
        "\n",
        "for classname, correct_count in correct_pred.items():\n",
        "    accuracy = 100 * float(correct_count) / total_pred[classname]\n",
        "    print(\"Accuracy for class {:5s} is: {:.2f}\".format(classname, accuracy))"
      ],
      "execution_count": 34,
      "outputs": [
        {
          "output_type": "stream",
          "name": "stdout",
          "text": [
            "Accuracy for class cane  is: 68.18\n",
            "Accuracy for class cavallo is: 74.07\n",
            "Accuracy for class elefante is: 87.50\n",
            "Accuracy for class farfalla is: 73.68\n",
            "Accuracy for class gallina is: 87.18\n",
            "Accuracy for class gatto is: 71.43\n",
            "Accuracy for class mucca is: 78.95\n",
            "Accuracy for class pecora is: 59.09\n",
            "Accuracy for class ragno is: 98.04\n",
            "Accuracy for class scoiattolo is: 70.00\n"
          ]
        }
      ]
    },
    {
      "cell_type": "markdown",
      "metadata": {
        "id": "mTsC0q15ggxk"
      },
      "source": [
        "### Google net"
      ]
    },
    {
      "cell_type": "code",
      "metadata": {
        "colab": {
          "base_uri": "https://localhost:8080/",
          "height": 121,
          "referenced_widgets": [
            "6dc65176906f4c5190469c709452dd6a",
            "b40122f79e444c22bae8939edf8facfe",
            "cb8e3457e1534b8c943fa8e3bf72318d",
            "648332fd3b054ccba13453b1c9c48a81",
            "36f93ed57ac3441289a1dfef2dec4ee0",
            "ee1d4d3e69074fd7b1dc8c5b82b344f9",
            "81c799365eec44b4bb97f7fd9ace1ec0",
            "ebde08d90dbb4df1bba91e76d46a2b0f",
            "7479cc63a0ff4b28bb1f13b10249474a",
            "4dff1445e0b04f4ca569fe9d0e3c9406",
            "e3375f930a914ea98e382ee1a8346415"
          ]
        },
        "id": "X0kunRfFdPyr",
        "outputId": "23d02648-ccd4-4203-fb5e-5cd561e327ac"
      },
      "source": [
        "googlenet = models.googlenet(pretrained=True)\n",
        "\n",
        "# freeze all layers in pretrained model\n",
        "for name, param in googlenet.named_parameters():\n",
        "    param.requires_grad = False\n",
        "    \n",
        "# replace last layer \n",
        "googlenet.fc = nn.Sequential(\n",
        "    nn.Linear(googlenet.fc.in_features, 500),\n",
        "    nn.ReLU(),\n",
        "    nn.Dropout(), \n",
        "    nn.Linear(500, 10)\n",
        ")\n",
        "\n",
        "dataloaders = {\"train\": train_loader, \"val\": val_loader,}\n",
        "criterion = nn.CrossEntropyLoss()\n",
        "optimizer = optim.Adam(googlenet.parameters(), lr=0.0003, amsgrad=True)\n",
        "\n",
        "print_parameters(googlenet)\n",
        "model = googlenet"
      ],
      "execution_count": 40,
      "outputs": [
        {
          "output_type": "stream",
          "name": "stderr",
          "text": [
            "Downloading: \"https://download.pytorch.org/models/googlenet-1378be20.pth\" to /root/.cache/torch/hub/checkpoints/googlenet-1378be20.pth\n"
          ]
        },
        {
          "output_type": "display_data",
          "data": {
            "application/vnd.jupyter.widget-view+json": {
              "model_id": "6dc65176906f4c5190469c709452dd6a",
              "version_minor": 0,
              "version_major": 2
            },
            "text/plain": [
              "  0%|          | 0.00/49.7M [00:00<?, ?B/s]"
            ]
          },
          "metadata": {}
        },
        {
          "output_type": "stream",
          "name": "stdout",
          "text": [
            "6,117,414 total parameters.\n",
            "517,510 training parameters.\n"
          ]
        }
      ]
    },
    {
      "cell_type": "code",
      "metadata": {
        "colab": {
          "base_uri": "https://localhost:8080/"
        },
        "id": "OE438EQWdZDS",
        "outputId": "dc8b0d6a-7661-4c79-8b28-fefd5ee92c34"
      },
      "source": [
        "losses_train, losses_val = fit(googlenet, criterion, optimizer, dataloaders, epochs=10)"
      ],
      "execution_count": 41,
      "outputs": [
        {
          "output_type": "stream",
          "name": "stdout",
          "text": [
            "cuda\n",
            "[1] training loss: 2.02834, validation loss: 1.73569, train accuracy 33.190067291259766, val accuracy 52.87356185913086\n",
            "[2] training loss: 1.54606, validation loss: 1.47597, train accuracy 52.96084213256836, val accuracy 57.47126388549805\n",
            "[3] training loss: 1.28195, validation loss: 1.31899, train accuracy 60.41069793701172, val accuracy 68.5823745727539\n",
            "[4] training loss: 1.14847, validation loss: 1.17866, train accuracy 63.610313415527344, val accuracy 65.13410186767578\n",
            "[5] training loss: 1.05728, validation loss: 0.99338, train accuracy 65.85482025146484, val accuracy 68.5823745727539\n",
            "[6] training loss: 1.00450, validation loss: 0.95519, train accuracy 67.90830993652344, val accuracy 71.26436614990234\n",
            "[7] training loss: 0.94203, validation loss: 0.91980, train accuracy 69.29322052001953, val accuracy 68.19923400878906\n",
            "[8] training loss: 0.90023, validation loss: 0.94907, train accuracy 70.63037109375, val accuracy 70.49808502197266\n",
            "[9] training loss: 0.94908, validation loss: 0.89805, train accuracy 68.24259948730469, val accuracy 70.11494445800781\n",
            "[10] training loss: 0.86382, validation loss: 0.91367, train accuracy 70.39159393310547, val accuracy 69.3486557006836\n"
          ]
        }
      ]
    },
    {
      "cell_type": "code",
      "metadata": {
        "colab": {
          "base_uri": "https://localhost:8080/",
          "height": 295
        },
        "id": "m4PAr01bdds0",
        "outputId": "4ea45314-4331-41c3-862d-c4c10cb4a95e"
      },
      "source": [
        "plot_losses(losses_train)"
      ],
      "execution_count": 43,
      "outputs": [
        {
          "output_type": "display_data",
          "data": {
            "image/png": "[encoded data removed]",
            "text/plain": [
              "<Figure size 432x288 with 1 Axes>"
            ]
          },
          "metadata": {
            "needs_background": "light"
          }
        }
      ]
    },
    {
      "cell_type": "code",
      "metadata": {
        "colab": {
          "base_uri": "https://localhost:8080/",
          "height": 295
        },
        "id": "JHDVCTWlkadG",
        "outputId": "aea414e3-2c76-42bc-b57a-a4bc57e6abfb"
      },
      "source": [
        "plot_losses(losses_val, title=\"val\")\n"
      ],
      "execution_count": 44,
      "outputs": [
        {
          "output_type": "display_data",
          "data": {
            "image/png": "[encoded data removed]",
            "text/plain": [
              "<Figure size 432x288 with 1 Axes>"
            ]
          },
          "metadata": {
            "needs_background": "light"
          }
        }
      ]
    },
    {
      "cell_type": "code",
      "metadata": {
        "colab": {
          "base_uri": "https://localhost:8080/"
        },
        "id": "3lLQCORHk5Q8",
        "outputId": "1738dec8-efd5-40a5-b6c7-1b42ff8ec9d4"
      },
      "source": [
        "device = torch.device(\"cuda\" if torch.cuda.is_available() else \"cpu\")\n",
        "correct = 0\n",
        "total = 0\n",
        "with torch.no_grad():\n",
        "    for data in test_loader:\n",
        "        inputs, labels = data\n",
        "        inputs = inputs.to(device)\n",
        "        labels = labels.to(device)\n",
        "        outputs = model(inputs)\n",
        "        _, predicted = torch.max(outputs.data, 1)\n",
        "        total += labels.size(0)\n",
        "        correct += (predicted == labels).sum().item()\n",
        "\n",
        "print('Accuracy of the network test images: {:.2f}'.format(correct / total))"
      ],
      "execution_count": 49,
      "outputs": [
        {
          "output_type": "stream",
          "name": "stdout",
          "text": [
            "Accuracy of the network test images: 0.72\n"
          ]
        }
      ]
    }
  ]
}