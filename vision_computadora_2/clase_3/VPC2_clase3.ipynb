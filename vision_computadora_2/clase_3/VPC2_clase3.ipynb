{
  "nbformat": 4,
  "nbformat_minor": 0,
  "metadata": {
    "accelerator": "GPU",
    "colab": {
      "name": "VPC2_clase3.ipynb",
      "provenance": [],
      "collapsed_sections": [],
      "authorship_tag": "ABX9TyO4y0ypDfcGl3Oln7unZujI",
      "include_colab_link": true
    },
    "kernelspec": {
      "display_name": "Python 3",
      "name": "python3"
    },
    "language_info": {
      "name": "python"
    },
    "widgets": {
      "application/vnd.jupyter.widget-state+json": {
        "c9c63fd12c2d432b9785f679b2a63be6": {
          "model_module": "@jupyter-widgets/controls",
          "model_name": "HBoxModel",
          "model_module_version": "1.5.0",
          "state": {
            "_view_name": "HBoxView",
            "_dom_classes": [],
            "_model_name": "HBoxModel",
            "_view_module": "@jupyter-widgets/controls",
            "_model_module_version": "1.5.0",
            "_view_count": null,
            "_view_module_version": "1.5.0",
            "box_style": "",
            "layout": "IPY_MODEL_eae976afaae84b8d929e84c93d8d9639",
            "_model_module": "@jupyter-widgets/controls",
            "children": [
              "IPY_MODEL_a60303163cfa4f709dc269bf8a90fda6",
              "IPY_MODEL_8e479d4f97dc4fed9c436aa33ac205d7",
              "IPY_MODEL_ea487fc1b44342949fbba41997bbb170"
            ]
          }
        },
        "eae976afaae84b8d929e84c93d8d9639": {
          "model_module": "@jupyter-widgets/base",
          "model_name": "LayoutModel",
          "model_module_version": "1.2.0",
          "state": {
            "_view_name": "LayoutView",
            "grid_template_rows": null,
            "right": null,
            "justify_content": null,
            "_view_module": "@jupyter-widgets/base",
            "overflow": null,
            "_model_module_version": "1.2.0",
            "_view_count": null,
            "flex_flow": null,
            "width": null,
            "min_width": null,
            "border": null,
            "align_items": null,
            "bottom": null,
            "_model_module": "@jupyter-widgets/base",
            "top": null,
            "grid_column": null,
            "overflow_y": null,
            "overflow_x": null,
            "grid_auto_flow": null,
            "grid_area": null,
            "grid_template_columns": null,
            "flex": null,
            "_model_name": "LayoutModel",
            "justify_items": null,
            "grid_row": null,
            "max_height": null,
            "align_content": null,
            "visibility": null,
            "align_self": null,
            "height": null,
            "min_height": null,
            "padding": null,
            "grid_auto_rows": null,
            "grid_gap": null,
            "max_width": null,
            "order": null,
            "_view_module_version": "1.2.0",
            "grid_template_areas": null,
            "object_position": null,
            "object_fit": null,
            "grid_auto_columns": null,
            "margin": null,
            "display": null,
            "left": null
          }
        },
        "a60303163cfa4f709dc269bf8a90fda6": {
          "model_module": "@jupyter-widgets/controls",
          "model_name": "HTMLModel",
          "model_module_version": "1.5.0",
          "state": {
            "_view_name": "HTMLView",
            "style": "IPY_MODEL_fd1b5e8413d44252a4487cacf700af20",
            "_dom_classes": [],
            "description": "",
            "_model_name": "HTMLModel",
            "placeholder": "​",
            "_view_module": "@jupyter-widgets/controls",
            "_model_module_version": "1.5.0",
            "value": "100%",
            "_view_count": null,
            "_view_module_version": "1.5.0",
            "description_tooltip": null,
            "_model_module": "@jupyter-widgets/controls",
            "layout": "IPY_MODEL_c45497c6cfb84a458b97aa842fc64d67"
          }
        },
        "8e479d4f97dc4fed9c436aa33ac205d7": {
          "model_module": "@jupyter-widgets/controls",
          "model_name": "FloatProgressModel",
          "model_module_version": "1.5.0",
          "state": {
            "_view_name": "ProgressView",
            "style": "IPY_MODEL_9062dfc846cc4ab6a7a78915d6ec3722",
            "_dom_classes": [],
            "description": "",
            "_model_name": "FloatProgressModel",
            "bar_style": "success",
            "max": 46830571,
            "_view_module": "@jupyter-widgets/controls",
            "_model_module_version": "1.5.0",
            "value": 46830571,
            "_view_count": null,
            "_view_module_version": "1.5.0",
            "orientation": "horizontal",
            "min": 0,
            "description_tooltip": null,
            "_model_module": "@jupyter-widgets/controls",
            "layout": "IPY_MODEL_d5678f76f66e4059820c4d6bc75c1e48"
          }
        },
        "ea487fc1b44342949fbba41997bbb170": {
          "model_module": "@jupyter-widgets/controls",
          "model_name": "HTMLModel",
          "model_module_version": "1.5.0",
          "state": {
            "_view_name": "HTMLView",
            "style": "IPY_MODEL_205deb47242247b085601d8b7b96fcf3",
            "_dom_classes": [],
            "description": "",
            "_model_name": "HTMLModel",
            "placeholder": "​",
            "_view_module": "@jupyter-widgets/controls",
            "_model_module_version": "1.5.0",
            "value": " 44.7M/44.7M [00:00&lt;00:00, 105MB/s]",
            "_view_count": null,
            "_view_module_version": "1.5.0",
            "description_tooltip": null,
            "_model_module": "@jupyter-widgets/controls",
            "layout": "IPY_MODEL_c5829f89674f4bbdbe59b39ce743c9d0"
          }
        },
        "fd1b5e8413d44252a4487cacf700af20": {
          "model_module": "@jupyter-widgets/controls",
          "model_name": "DescriptionStyleModel",
          "model_module_version": "1.5.0",
          "state": {
            "_view_name": "StyleView",
            "_model_name": "DescriptionStyleModel",
            "description_width": "",
            "_view_module": "@jupyter-widgets/base",
            "_model_module_version": "1.5.0",
            "_view_count": null,
            "_view_module_version": "1.2.0",
            "_model_module": "@jupyter-widgets/controls"
          }
        },
        "c45497c6cfb84a458b97aa842fc64d67": {
          "model_module": "@jupyter-widgets/base",
          "model_name": "LayoutModel",
          "model_module_version": "1.2.0",
          "state": {
            "_view_name": "LayoutView",
            "grid_template_rows": null,
            "right": null,
            "justify_content": null,
            "_view_module": "@jupyter-widgets/base",
            "overflow": null,
            "_model_module_version": "1.2.0",
            "_view_count": null,
            "flex_flow": null,
            "width": null,
            "min_width": null,
            "border": null,
            "align_items": null,
            "bottom": null,
            "_model_module": "@jupyter-widgets/base",
            "top": null,
            "grid_column": null,
            "overflow_y": null,
            "overflow_x": null,
            "grid_auto_flow": null,
            "grid_area": null,
            "grid_template_columns": null,
            "flex": null,
            "_model_name": "LayoutModel",
            "justify_items": null,
            "grid_row": null,
            "max_height": null,
            "align_content": null,
            "visibility": null,
            "align_self": null,
            "height": null,
            "min_height": null,
            "padding": null,
            "grid_auto_rows": null,
            "grid_gap": null,
            "max_width": null,
            "order": null,
            "_view_module_version": "1.2.0",
            "grid_template_areas": null,
            "object_position": null,
            "object_fit": null,
            "grid_auto_columns": null,
            "margin": null,
            "display": null,
            "left": null
          }
        },
        "9062dfc846cc4ab6a7a78915d6ec3722": {
          "model_module": "@jupyter-widgets/controls",
          "model_name": "ProgressStyleModel",
          "model_module_version": "1.5.0",
          "state": {
            "_view_name": "StyleView",
            "_model_name": "ProgressStyleModel",
            "description_width": "",
            "_view_module": "@jupyter-widgets/base",
            "_model_module_version": "1.5.0",
            "_view_count": null,
            "_view_module_version": "1.2.0",
            "bar_color": null,
            "_model_module": "@jupyter-widgets/controls"
          }
        },
        "d5678f76f66e4059820c4d6bc75c1e48": {
          "model_module": "@jupyter-widgets/base",
          "model_name": "LayoutModel",
          "model_module_version": "1.2.0",
          "state": {
            "_view_name": "LayoutView",
            "grid_template_rows": null,
            "right": null,
            "justify_content": null,
            "_view_module": "@jupyter-widgets/base",
            "overflow": null,
            "_model_module_version": "1.2.0",
            "_view_count": null,
            "flex_flow": null,
            "width": null,
            "min_width": null,
            "border": null,
            "align_items": null,
            "bottom": null,
            "_model_module": "@jupyter-widgets/base",
            "top": null,
            "grid_column": null,
            "overflow_y": null,
            "overflow_x": null,
            "grid_auto_flow": null,
            "grid_area": null,
            "grid_template_columns": null,
            "flex": null,
            "_model_name": "LayoutModel",
            "justify_items": null,
            "grid_row": null,
            "max_height": null,
            "align_content": null,
            "visibility": null,
            "align_self": null,
            "height": null,
            "min_height": null,
            "padding": null,
            "grid_auto_rows": null,
            "grid_gap": null,
            "max_width": null,
            "order": null,
            "_view_module_version": "1.2.0",
            "grid_template_areas": null,
            "object_position": null,
            "object_fit": null,
            "grid_auto_columns": null,
            "margin": null,
            "display": null,
            "left": null
          }
        },
        "205deb47242247b085601d8b7b96fcf3": {
          "model_module": "@jupyter-widgets/controls",
          "model_name": "DescriptionStyleModel",
          "model_module_version": "1.5.0",
          "state": {
            "_view_name": "StyleView",
            "_model_name": "DescriptionStyleModel",
            "description_width": "",
            "_view_module": "@jupyter-widgets/base",
            "_model_module_version": "1.5.0",
            "_view_count": null,
            "_view_module_version": "1.2.0",
            "_model_module": "@jupyter-widgets/controls"
          }
        },
        "c5829f89674f4bbdbe59b39ce743c9d0": {
          "model_module": "@jupyter-widgets/base",
          "model_name": "LayoutModel",
          "model_module_version": "1.2.0",
          "state": {
            "_view_name": "LayoutView",
            "grid_template_rows": null,
            "right": null,
            "justify_content": null,
            "_view_module": "@jupyter-widgets/base",
            "overflow": null,
            "_model_module_version": "1.2.0",
            "_view_count": null,
            "flex_flow": null,
            "width": null,
            "min_width": null,
            "border": null,
            "align_items": null,
            "bottom": null,
            "_model_module": "@jupyter-widgets/base",
            "top": null,
            "grid_column": null,
            "overflow_y": null,
            "overflow_x": null,
            "grid_auto_flow": null,
            "grid_area": null,
            "grid_template_columns": null,
            "flex": null,
            "_model_name": "LayoutModel",
            "justify_items": null,
            "grid_row": null,
            "max_height": null,
            "align_content": null,
            "visibility": null,
            "align_self": null,
            "height": null,
            "min_height": null,
            "padding": null,
            "grid_auto_rows": null,
            "grid_gap": null,
            "max_width": null,
            "order": null,
            "_view_module_version": "1.2.0",
            "grid_template_areas": null,
            "object_position": null,
            "object_fit": null,
            "grid_auto_columns": null,
            "margin": null,
            "display": null,
            "left": null
          }
        }
      }
    }
  },
  "cells": [
    {
      "cell_type": "markdown",
      "metadata": {
        "id": "view-in-github",
        "colab_type": "text"
      },
      "source": [
        "<a href=\"https://colab.research.google.com/github/GonzaloRomeroR/CEIA/blob/master/vision_computadora_2/clase_3/VPC2_clase3.ipynb\" target=\"_parent\"><img src=\"https://colab.research.google.com/assets/colab-badge.svg\" alt=\"Open In Colab\"/></a>"
      ]
    },
    {
      "cell_type": "markdown",
      "metadata": {
        "id": "jCRdqZN1SGOd"
      },
      "source": [
        "# Ejercicio: clase 3"
      ]
    },
    {
      "cell_type": "markdown",
      "metadata": {
        "id": "E0N8f0l4iLU9"
      },
      "source": [
        "Utilizando otro dataset, realizar transfer learning de otras arquitecturas disponibles y comparar resultados."
      ]
    },
    {
      "cell_type": "markdown",
      "metadata": {
        "id": "I-6aH3Uuyl0g"
      },
      "source": [
        "## Download dataset"
      ]
    },
    {
      "cell_type": "code",
      "metadata": {
        "colab": {
          "base_uri": "https://localhost:8080/"
        },
        "id": "sihQpObVo9Gu",
        "outputId": "d5088291-98f6-4d46-ce21-046cf85b636e"
      },
      "source": [
        "# Mount drive\n",
        "from google.colab import drive\n",
        "drive.mount('/content/drive')"
      ],
      "execution_count": 1,
      "outputs": [
        {
          "output_type": "stream",
          "name": "stdout",
          "text": [
            "Mounted at /content/drive\n"
          ]
        }
      ]
    },
    {
      "cell_type": "code",
      "metadata": {
        "colab": {
          "resources": {
            "http://localhost:8080/nbextensions/google.colab/files.js": {
              "data": "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",
              "ok": true,
              "headers": [
                [
                  "content-type",
                  "application/javascript"
                ]
              ],
              "status": 200,
              "status_text": ""
            }
          },
          "base_uri": "https://localhost:8080/",
          "height": 72
        },
        "id": "JuPg4br7vu4f",
        "outputId": "1083f11e-d907-49e7-b71c-e14b8bc95a28"
      },
      "source": [
        "# Get kaggle json file\n",
        "from google.colab import files\n",
        "files.upload()\n",
        "\n",
        "!pip install -q kaggle\n",
        "!mkdir -p ~/.kaggle\n",
        "!cp kaggle.json ~/.kaggle/\n",
        "!ls ~/.kaggle\n",
        "!chmod 600 /root/.kaggle/kaggle.json"
      ],
      "execution_count": null,
      "outputs": [
        {
          "output_type": "display_data",
          "data": {
            "text/html": [
              "\n",
              "     <input type=\"file\" id=\"files-edbff273-2edf-4cb5-9e80-0ef48e054468\" name=\"files[]\" multiple disabled\n",
              "        style=\"border:none\" />\n",
              "     <output id=\"result-edbff273-2edf-4cb5-9e80-0ef48e054468\">\n",
              "      Upload widget is only available when the cell has been executed in the\n",
              "      current browser session. Please rerun this cell to enable.\n",
              "      </output>\n",
              "      <script src=\"/nbextensions/google.colab/files.js\"></script> "
            ],
            "text/plain": [
              "<IPython.core.display.HTML object>"
            ]
          },
          "metadata": {}
        },
        {
          "output_type": "stream",
          "name": "stdout",
          "text": [
            "Saving kaggle.json to kaggle.json\n",
            "kaggle.json\n"
          ]
        }
      ]
    },
    {
      "cell_type": "code",
      "metadata": {
        "id": "ElTjBvYWwaWW",
        "colab": {
          "base_uri": "https://localhost:8080/"
        },
        "outputId": "8f1808f4-f688-4424-da2b-fb3a87a7481a"
      },
      "source": [
        "!kaggle datasets download -d alessiocorrado99/animals10 -p \"./drive/My Drive/datasets/Animals-10\""
      ],
      "execution_count": null,
      "outputs": [
        {
          "output_type": "stream",
          "name": "stdout",
          "text": [
            "animals10.zip: Skipping, found more recently modified local copy (use --force to force download)\n"
          ]
        }
      ]
    },
    {
      "cell_type": "code",
      "metadata": {
        "id": "TLODlvJyw95-",
        "colab": {
          "base_uri": "https://localhost:8080/"
        },
        "outputId": "13ebb77f-e983-4afd-f5de-b9a831d6492c"
      },
      "source": [
        "!kaggle datasets list -s Animals-10"
      ],
      "execution_count": null,
      "outputs": [
        {
          "output_type": "stream",
          "name": "stdout",
          "text": [
            "Warning: Looks like you're using an outdated API Version, please consider updating (server 1.5.12 / client 1.5.4)\n",
            "ref                                                           title                                         size  lastUpdated          downloadCount  \n",
            "------------------------------------------------------------  -------------------------------------------  -----  -------------------  -------------  \n",
            "alessiocorrado99/animals10                                    Animals-10                                   586MB  2019-12-12 20:46:33          18870  \n",
            "agajorte/zoo-animals-extended-dataset                         Zoo Animals Extended Dataset                   2KB  2019-06-02 16:22:31           3029  \n",
            "viratkothari/animal10                                         Animals-10                                   585MB  2020-09-17 18:56:19            441  \n",
            "vishweshsalodkar/wild-animals                                  Wild Animals                                  7MB  2021-07-29 16:48:17            305  \n",
            "iamsouravbanerjee/animal-image-dataset-90-different-animals   Animal Image Dataset (90 Different Animals)  656MB  2021-08-29 12:53:50            543  \n",
            "hessahalkhattabi/animals                                      Animals                                       21KB  2020-04-18 11:18:42            396  \n",
            "uciml/zoo-animal-classification                               Zoo Animal Classification                      2KB  2016-12-24 18:05:10          25112  \n",
            "pratik2901/animal-dataset                                     Recognize Animals                            225MB  2020-10-02 05:07:37            655  \n",
            "antoreepjana/animals-detection-images-dataset                 Animals Detection Images Dataset               9GB  2021-05-05 18:07:46            847  \n",
            "aaronschlegel/austin-animal-center-shelter-outcomes-and       Austin Animal Center Shelter Outcomes          3MB  2018-02-16 17:39:55           5709  \n",
            "jinbonnie/animal-data                                         Animal Care and Control Adopted Animals      280KB  2020-11-02 16:17:46            549  \n",
            "jessicali9530/stl10                                           STL-10 Image Recognition Dataset               2GB  2018-06-11 03:02:24           3178  \n",
            "jessicali9530/animal-crossing-new-horizons-nookplaza-dataset  Animal Crossing New Horizons Catalog         577KB  2021-06-08 15:05:09          10174  \n",
            "jerrinbright/cheetahtigerwolf                                 ANIMALS                                        3GB  2020-06-22 11:50:53            317  \n",
            "antoreepjana/iucn-animals-dataset                             IUCN Animals Dataset                          30MB  2021-02-20 03:35:14             98  \n",
            "techsash/waste-classification-data                            Waste Classification data                    427MB  2019-06-16 03:24:52           9999  \n",
            "sudalairajkumar/covid19-in-india                              COVID-19 in India                            758KB  2021-08-11 04:14:10         136868  \n",
            "dorbicycle/world-foodfeed-production                          Who eats the food we grow?                   874KB  2017-11-30 06:32:35          12000  \n",
            "mpwolke/cusersmarildownloadstigerjpg                          Hugging Tigress, Hidden Tree                 385KB  2020-10-28 12:03:03             12  \n",
            "biancaferreira/african-wildlife                               African Wildlife                             448MB  2020-05-25 13:42:19           1797  \n"
          ]
        }
      ]
    },
    {
      "cell_type": "code",
      "metadata": {
        "id": "S2lANTfyxzKE",
        "colab": {
          "base_uri": "https://localhost:8080/"
        },
        "outputId": "5a74e322-71f7-4dac-8344-e9d58527348d"
      },
      "source": [
        "!kaggle datasets download -h"
      ],
      "execution_count": null,
      "outputs": [
        {
          "output_type": "stream",
          "name": "stdout",
          "text": [
            "usage: kaggle datasets download [-h] [-f FILE_NAME] [-p PATH] [-w] [--unzip]\n",
            "                                [-o] [-q]\n",
            "                                [dataset]\n",
            "\n",
            "optional arguments:\n",
            "  -h, --help            show this help message and exit\n",
            "  dataset               Dataset URL suffix in format <owner>/<dataset-name> (use \"kaggle datasets list\" to show options)\n",
            "  -f FILE_NAME, --file FILE_NAME\n",
            "                        File name, all files downloaded if not provided\n",
            "                        (use \"kaggle datasets files -d <dataset>\" to show options)\n",
            "  -p PATH, --path PATH  Folder where file(s) will be downloaded, defaults to current working directory\n",
            "  -w, --wp              Download files to current working path\n",
            "  --unzip               Unzip the downloaded file. Will delete the zip file when completed.\n",
            "  -o, --force           Skip check whether local version of file is up to date, force file download\n",
            "  -q, --quiet           Suppress printing information about the upload/download progress\n"
          ]
        }
      ]
    },
    {
      "cell_type": "code",
      "metadata": {
        "colab": {
          "base_uri": "https://localhost:8080/"
        },
        "id": "b4kLJexVyj4N",
        "outputId": "ff37aedf-4380-4bde-fdae-c31aa93d36a3"
      },
      "source": [
        "import os\n",
        "os.chdir('./drive/My Drive/datasets/Animals-10') \n",
        "!unzip -q animals10.zip -d animals10\n"
      ],
      "execution_count": null,
      "outputs": [
        {
          "output_type": "stream",
          "name": "stdout",
          "text": [
            "replace animals10/raw-img/cane/OIF-e2bexWrojgtQnAPPcUfOWQ.jpeg? [y]es, [n]o, [A]ll, [N]one, [r]ename: "
          ]
        }
      ]
    },
    {
      "cell_type": "markdown",
      "metadata": {
        "id": "gP2pwC3OcGhJ"
      },
      "source": [
        "## Load data"
      ]
    },
    {
      "cell_type": "code",
      "metadata": {
        "id": "cYqZlF_jiEgh"
      },
      "source": [
        "# Import libraries\n",
        "import torch\n",
        "from torch import nn\n",
        "import pandas as pd\n",
        "import time\n",
        "import os\n",
        "import copy\n",
        "import matplotlib.pyplot as plt\n",
        "from torch.utils.data import TensorDataset, DataLoader, Dataset, Subset\n",
        "import torchvision.datasets as datasets\n",
        "from torchvision import transforms, models\n",
        "import torchvision\n",
        "import numpy as np\n",
        "import torch.optim as optim\n",
        "import torch.nn.functional as F\n",
        "from torch.optim import lr_scheduler\n"
      ],
      "execution_count": 2,
      "outputs": []
    },
    {
      "cell_type": "code",
      "metadata": {
        "id": "wW4BfYCAkiUw"
      },
      "source": [
        "# Load data\n",
        "os.chdir('./drive/My Drive/datasets/Animals-10') \n",
        "DIRECTORY = './animals10/raw-img/'\n",
        "dataset = datasets.ImageFolder(DIRECTORY)\n",
        "\n",
        "\n",
        "train_size = int(len(dataset) * 0.8)\n",
        "val_size = int(len(dataset) * 0.1)\n",
        "test_size = len(dataset) - train_size - val_size\n",
        "\n",
        "train, val, test = torch.utils.data.random_split(dataset, [train_size, val_size, test_size])\n",
        "\n",
        "reduce = 0.1\n",
        "train = Subset(train, np.arange(int(train_size * reduce)))\n",
        "val = Subset(val, np.arange(int(val_size * reduce)))\n",
        "test = Subset(test, np.arange(int(test_size * reduce)))\n"
      ],
      "execution_count": 3,
      "outputs": []
    },
    {
      "cell_type": "code",
      "metadata": {
        "id": "ZI-l4rDue4e2"
      },
      "source": [
        "# Se definen las transformaciones para hacer data augmentation\n",
        "torchvision_transform = transforms.Compose([\n",
        "    transforms.Resize([128, 128]),\n",
        "    transforms.RandomHorizontalFlip(),\n",
        "    transforms.RandomRotation(360),\n",
        "    transforms.ToTensor(),\n",
        "    \n",
        "])"
      ],
      "execution_count": 4,
      "outputs": []
    },
    {
      "cell_type": "code",
      "metadata": {
        "id": "MOsqvF8V_ESU"
      },
      "source": [
        "# Se define el dataset\n",
        "class CustomDataset(Dataset):\n",
        "  def __init__(self, dataset, transform=None):\n",
        "    super().__init__()\n",
        "    self.dataset = dataset\n",
        "    self.transform = transform\n",
        "\n",
        "  def __len__(self):\n",
        "    return len(self.dataset)\n",
        "  \n",
        "  def __getitem__(self, idx):\n",
        "    x = self.dataset[idx][0]\n",
        "    if self.transform:\n",
        "      x = self.transform(x)\n",
        "    y = self.dataset[idx][1]\n",
        "    return x, y\n",
        "     "
      ],
      "execution_count": 5,
      "outputs": []
    },
    {
      "cell_type": "code",
      "metadata": {
        "id": "cfOM9lPWc1Rz"
      },
      "source": [
        "# Se definen los parámetros de entrenamiento\n",
        "params = {'batch_size': 64,\n",
        "          'shuffle': True,}\n",
        "\n",
        "# Se generan los datasets y dataloaders\n",
        "train_set = CustomDataset(train, torchvision_transform)\n",
        "val_set = CustomDataset(val, torchvision_transform)\n",
        "test_set = CustomDataset(test, torchvision_transform)\n",
        "\n",
        "train_loader = torch.utils.data.DataLoader(train_set, **params)\n",
        "val_loader = torch.utils.data.DataLoader(val_set, **params)\n",
        "test_loader = torch.utils.data.DataLoader(test_set, **params)"
      ],
      "execution_count": 6,
      "outputs": []
    },
    {
      "cell_type": "code",
      "metadata": {
        "colab": {
          "base_uri": "https://localhost:8080/"
        },
        "id": "mR4KhwHkVEfq",
        "outputId": "27d3fd41-5bc8-4b08-ac42-9507589e86bd"
      },
      "source": [
        "len(train_set)"
      ],
      "execution_count": 7,
      "outputs": [
        {
          "output_type": "execute_result",
          "data": {
            "text/plain": [
              "2094"
            ]
          },
          "metadata": {},
          "execution_count": 7
        }
      ]
    },
    {
      "cell_type": "code",
      "metadata": {
        "id": "PCfamhWwjWkv"
      },
      "source": [
        "def idx_to_class(idx_dict, value):\n",
        "  inv_dict = {v: k for k, v in idx_dict.items()}\n",
        "  return inv_dict[value]"
      ],
      "execution_count": 8,
      "outputs": []
    },
    {
      "cell_type": "code",
      "metadata": {
        "colab": {
          "base_uri": "https://localhost:8080/",
          "height": 132
        },
        "id": "dQEtZA57fXrc",
        "outputId": "1d788128-0114-46a8-c4c0-347c28eedff7"
      },
      "source": [
        "# Se imprimen algunas imágenes\n",
        "def imshow(inp, title=None):\n",
        "    inp = inp.numpy().transpose((1, 2, 0))\n",
        "    plt.imshow(inp)\n",
        "    if title is not None:\n",
        "        plt.title(title)\n",
        "\n",
        "num_images = 5\n",
        "\n",
        "# Get a batch of training data\n",
        "inputs, classes = next(iter(train_loader))\n",
        "\n",
        "# Make a grid from batch\n",
        "out = torchvision.utils.make_grid(inputs[:num_images])\n",
        "imshow(out, title=[idx_to_class(dataset.class_to_idx, value.item()) for value in classes[:num_images]])"
      ],
      "execution_count": 9,
      "outputs": [
        {
          "output_type": "display_data",
          "data": {
            "image/png": "[encoded data removed]",
            "text/plain": [
              "<Figure size 432x288 with 1 Axes>"
            ]
          },
          "metadata": {
            "needs_background": "light"
          }
        }
      ]
    },
    {
      "cell_type": "code",
      "metadata": {
        "id": "4gS7W_htmMxv"
      },
      "source": [
        "# Create model\n",
        "\n",
        "class Net(nn.Module):\n",
        "    def __init__(self):\n",
        "        super().__init__()\n",
        "        self.resnet18 = models.resnet18(pretrained=True)\n",
        "        for param in self.resnet18.parameters():\n",
        "          param.requires_grad = False\n",
        "        self.fc1 = nn.Linear(1000, 120)\n",
        "        self.fc2 = nn.Linear(120, 84)\n",
        "        self.fc3 = nn.Linear(84, 10)\n",
        "\n",
        "    def forward(self, x):\n",
        "        x = self.resnet18(x)\n",
        "        x = self.fc1(x)\n",
        "        x = self.fc2(x)\n",
        "        x = self.fc3(x)\n",
        "        return x"
      ],
      "execution_count": 10,
      "outputs": []
    },
    {
      "cell_type": "code",
      "metadata": {
        "id": "TtLSAAFumKNs",
        "colab": {
          "base_uri": "https://localhost:8080/",
          "height": 66,
          "referenced_widgets": [
            "c9c63fd12c2d432b9785f679b2a63be6",
            "eae976afaae84b8d929e84c93d8d9639",
            "a60303163cfa4f709dc269bf8a90fda6",
            "8e479d4f97dc4fed9c436aa33ac205d7",
            "ea487fc1b44342949fbba41997bbb170",
            "fd1b5e8413d44252a4487cacf700af20",
            "c45497c6cfb84a458b97aa842fc64d67",
            "9062dfc846cc4ab6a7a78915d6ec3722",
            "d5678f76f66e4059820c4d6bc75c1e48",
            "205deb47242247b085601d8b7b96fcf3",
            "c5829f89674f4bbdbe59b39ce743c9d0"
          ]
        },
        "outputId": "42c4264a-715f-41e5-953f-cfc4f4c708e9"
      },
      "source": [
        "model = Net()"
      ],
      "execution_count": 11,
      "outputs": [
        {
          "output_type": "stream",
          "name": "stderr",
          "text": [
            "Downloading: \"https://download.pytorch.org/models/resnet18-f37072fd.pth\" to /root/.cache/torch/hub/checkpoints/resnet18-f37072fd.pth\n"
          ]
        },
        {
          "output_type": "display_data",
          "data": {
            "application/vnd.jupyter.widget-view+json": {
              "model_id": "c9c63fd12c2d432b9785f679b2a63be6",
              "version_minor": 0,
              "version_major": 2
            },
            "text/plain": [
              "  0%|          | 0.00/44.7M [00:00<?, ?B/s]"
            ]
          },
          "metadata": {}
        }
      ]
    },
    {
      "cell_type": "code",
      "metadata": {
        "colab": {
          "base_uri": "https://localhost:8080/"
        },
        "id": "uLGnC4p2SrE8",
        "outputId": "2403c4cf-a490-4202-b6dc-08dbfaf25a16"
      },
      "source": [
        "# Find total parameters and trainable parameters\n",
        "total_params = sum(p.numel() for p in model.parameters())\n",
        "print(f'{total_params:,} total parameters.')\n",
        "total_trainable_params = sum(\n",
        "    p.numel() for p in model.parameters() if p.requires_grad)\n",
        "print(f'{total_trainable_params:,} training parameters.')"
      ],
      "execution_count": 61,
      "outputs": [
        {
          "output_type": "stream",
          "name": "stdout",
          "text": [
            "11,820,646 total parameters.\n",
            "131,134 training parameters.\n"
          ]
        }
      ]
    },
    {
      "cell_type": "code",
      "metadata": {
        "id": "ivgf4sgH760l"
      },
      "source": [
        "dataloaders = {\"train\": train_loader, \"val\": val_loader,}\n",
        "criterion = nn.CrossEntropyLoss()\n",
        "optimizer = optim.SGD(model.parameters(), lr=0.01, momentum=0.9)"
      ],
      "execution_count": 13,
      "outputs": []
    },
    {
      "cell_type": "code",
      "metadata": {
        "colab": {
          "base_uri": "https://localhost:8080/"
        },
        "id": "fd7vAOaMwfS2",
        "outputId": "82d117dc-c031-4d17-f3a4-464b463a46c8"
      },
      "source": [
        "# Se entrena el modelo\n",
        "device = torch.device(\"cuda\" if torch.cuda.is_available() else \"cpu\")\n",
        "print(device)\n",
        "if torch.cuda.is_available():\n",
        "  model.cuda()\n",
        "losses_train = []\n",
        "losses_val = []\n",
        "running_loss = 0.0\n",
        "for epoch in range(50):\n",
        "    model.train()\n",
        "    running_loss = 0.0\n",
        "    correct = 0\n",
        "    correct_val = 0\n",
        "    model = model.train()\n",
        "    for i, data in enumerate(dataloaders[\"train\"]):\n",
        "        inputs, labels = data\n",
        "        inputs = inputs.to(device)\n",
        "        labels = labels.to(device)\n",
        "        optimizer.zero_grad()\n",
        "        outputs = model(inputs)\n",
        "        loss = criterion(outputs, labels)\n",
        "        loss.backward()\n",
        "        _, preds = torch.max(outputs, 1)\n",
        "        optimizer.step()\n",
        "        running_loss += loss.item()\n",
        "        correct += (preds == labels).float().sum()\n",
        "    model = model.eval() \n",
        "    with torch.no_grad():\n",
        "      valid_loss = 0.0\n",
        "      for i, data in enumerate(dataloaders[\"val\"]):\n",
        "          inputs, labels = data\n",
        "          inputs = inputs.to(device)\n",
        "          labels = labels.to(device)\n",
        "          outputs = model(inputs)\n",
        "          loss = criterion(outputs, labels)\n",
        "          valid_loss += loss.item()\n",
        "          _, preds = torch.max(outputs, 1)\n",
        "          correct_val += (preds == labels).float().sum()\n",
        "\n",
        "\n",
        "    print('[%d] training loss: %.5f, validation loss: %.5f' %(epoch + 1, running_loss / len(train_loader), valid_loss / len(val_loader)), end=\"\")\n",
        "    print(\", train accuracy {}, val accuracy {}\".format(100 * correct / len(train_set), 100 * correct_val / len(val_set)))\n",
        "    losses_train.append(running_loss / len(train_loader))\n",
        "    losses_val.append(valid_loss / len(val_loader))"
      ],
      "execution_count": 16,
      "outputs": [
        {
          "output_type": "stream",
          "name": "stdout",
          "text": [
            "cuda\n",
            "[1] training loss: 1.27098, validation loss: 1.28484, train accuracy 57.16332244873047, val accuracy 59.38697052001953\n",
            "[2] training loss: 1.12595, validation loss: 0.98277, train accuracy 61.843360900878906, val accuracy 59.77011489868164\n",
            "[3] training loss: 1.13118, validation loss: 1.09271, train accuracy 61.652339935302734, val accuracy 65.90038299560547\n",
            "[4] training loss: 1.10692, validation loss: 1.19536, train accuracy 62.5596923828125, val accuracy 63.218387603759766\n",
            "[5] training loss: 1.09752, validation loss: 1.31371, train accuracy 62.7984733581543, val accuracy 63.98467254638672\n",
            "[6] training loss: 1.04930, validation loss: 0.91314, train accuracy 64.56542205810547, val accuracy 65.90038299560547\n",
            "[7] training loss: 1.06260, validation loss: 1.03240, train accuracy 63.75358200073242, val accuracy 62.83524703979492\n",
            "[8] training loss: 1.03817, validation loss: 1.03282, train accuracy 65.09073638916016, val accuracy 63.218387603759766\n",
            "[9] training loss: 1.07223, validation loss: 1.01862, train accuracy 63.849090576171875, val accuracy 65.13410186767578\n",
            "[10] training loss: 1.04664, validation loss: 1.01684, train accuracy 64.51766967773438, val accuracy 60.53639602661133\n",
            "[11] training loss: 0.98788, validation loss: 1.14518, train accuracy 66.71442413330078, val accuracy 63.98467254638672\n",
            "[12] training loss: 1.03110, validation loss: 0.88182, train accuracy 64.89971160888672, val accuracy 65.13410186767578\n",
            "[13] training loss: 0.99621, validation loss: 1.01527, train accuracy 66.09359741210938, val accuracy 67.81609344482422\n",
            "[14] training loss: 1.00610, validation loss: 1.09310, train accuracy 66.52339935302734, val accuracy 60.153255462646484\n",
            "[15] training loss: 1.01199, validation loss: 0.94352, train accuracy 64.37440490722656, val accuracy 69.3486557006836\n",
            "[16] training loss: 1.00206, validation loss: 0.97771, train accuracy 65.4727783203125, val accuracy 65.90038299560547\n",
            "[17] training loss: 0.99783, validation loss: 1.01806, train accuracy 65.95033264160156, val accuracy 61.685821533203125\n",
            "[18] training loss: 1.03794, validation loss: 1.18919, train accuracy 64.56542205810547, val accuracy 68.96551513671875\n",
            "[19] training loss: 1.02167, validation loss: 1.13899, train accuracy 64.80419921875, val accuracy 63.98467254638672\n",
            "[20] training loss: 0.97548, validation loss: 1.08224, train accuracy 66.28462219238281, val accuracy 66.28352355957031\n",
            "[21] training loss: 1.00060, validation loss: 0.91608, train accuracy 66.42788696289062, val accuracy 67.81609344482422\n",
            "[22] training loss: 0.97692, validation loss: 1.05033, train accuracy 66.23686981201172, val accuracy 66.66666412353516\n",
            "[23] training loss: 0.97341, validation loss: 1.06609, train accuracy 67.28749084472656, val accuracy 67.81609344482422\n",
            "[24] training loss: 0.97146, validation loss: 1.02372, train accuracy 66.09359741210938, val accuracy 65.51724243164062\n",
            "[25] training loss: 1.00497, validation loss: 0.94323, train accuracy 66.3323745727539, val accuracy 68.5823745727539\n",
            "[26] training loss: 1.01641, validation loss: 1.04702, train accuracy 66.141357421875, val accuracy 68.96551513671875\n",
            "[27] training loss: 0.98282, validation loss: 0.98233, train accuracy 67.09646606445312, val accuracy 65.13410186767578\n",
            "[28] training loss: 0.96999, validation loss: 0.91296, train accuracy 66.28462219238281, val accuracy 61.685821533203125\n",
            "[29] training loss: 0.98321, validation loss: 0.95633, train accuracy 65.66380310058594, val accuracy 68.19923400878906\n",
            "[30] training loss: 0.98450, validation loss: 0.73518, train accuracy 66.09359741210938, val accuracy 70.49808502197266\n",
            "[31] training loss: 0.95480, validation loss: 1.06298, train accuracy 67.86054992675781, val accuracy 66.66666412353516\n",
            "[32] training loss: 0.95305, validation loss: 0.91297, train accuracy 68.3381118774414, val accuracy 64.36781311035156\n",
            "[33] training loss: 0.97020, validation loss: 1.14611, train accuracy 68.14708709716797, val accuracy 63.98467254638672\n",
            "[34] training loss: 0.93020, validation loss: 1.23413, train accuracy 69.34097290039062, val accuracy 65.13410186767578\n",
            "[35] training loss: 1.01376, validation loss: 0.93934, train accuracy 66.09359741210938, val accuracy 65.90038299560547\n",
            "[36] training loss: 0.95738, validation loss: 0.85685, train accuracy 67.95606231689453, val accuracy 66.28352355957031\n",
            "[37] training loss: 0.93802, validation loss: 0.89155, train accuracy 68.3381118774414, val accuracy 66.66666412353516\n",
            "[38] training loss: 0.92921, validation loss: 0.82743, train accuracy 68.4336166381836, val accuracy 64.7509536743164\n",
            "[39] training loss: 0.92945, validation loss: 0.98925, train accuracy 68.05157470703125, val accuracy 68.19923400878906\n",
            "[40] training loss: 0.98053, validation loss: 0.91041, train accuracy 67.19197845458984, val accuracy 62.45210647583008\n",
            "[41] training loss: 0.98001, validation loss: 1.03802, train accuracy 66.90544128417969, val accuracy 66.28352355957031\n",
            "[42] training loss: 0.90604, validation loss: 1.24957, train accuracy 68.00382232666016, val accuracy 64.36781311035156\n",
            "[43] training loss: 0.96715, validation loss: 1.10967, train accuracy 68.00382232666016, val accuracy 69.73179626464844\n",
            "[44] training loss: 0.93386, validation loss: 1.00734, train accuracy 67.43075561523438, val accuracy 68.5823745727539\n",
            "[45] training loss: 0.97770, validation loss: 1.22782, train accuracy 67.5262680053711, val accuracy 65.13410186767578\n",
            "[46] training loss: 0.91867, validation loss: 1.05400, train accuracy 69.43648529052734, val accuracy 66.66666412353516\n",
            "[47] training loss: 0.93779, validation loss: 1.03108, train accuracy 67.23973083496094, val accuracy 64.7509536743164\n",
            "[48] training loss: 0.93028, validation loss: 0.92690, train accuracy 68.19483947753906, val accuracy 70.8812255859375\n",
            "[49] training loss: 0.91860, validation loss: 0.95857, train accuracy 68.00382232666016, val accuracy 66.66666412353516\n",
            "[50] training loss: 0.95234, validation loss: 0.91201, train accuracy 66.66666412353516, val accuracy 66.66666412353516\n"
          ]
        }
      ]
    },
    {
      "cell_type": "code",
      "metadata": {
        "colab": {
          "base_uri": "https://localhost:8080/",
          "height": 312
        },
        "id": "h7OeboD2sPQ4",
        "outputId": "8c892ffe-9472-4088-b4a1-2e1405348e41"
      },
      "source": [
        "# Se grafica el error de entrenamiento\n",
        "plt.plot(losses_train)\n",
        "plt.title(\"Train loss\")\n",
        "plt.ylabel(\"loss\")\n",
        "plt.xlabel(\"epoch\")"
      ],
      "execution_count": 17,
      "outputs": [
        {
          "output_type": "execute_result",
          "data": {
            "text/plain": [
              "Text(0.5, 0, 'epoch')"
            ]
          },
          "metadata": {},
          "execution_count": 17
        },
        {
          "output_type": "display_data",
          "data": {
            "image/png": "[encoded data removed]",
            "text/plain": [
              "<Figure size 432x288 with 1 Axes>"
            ]
          },
          "metadata": {
            "needs_background": "light"
          }
        }
      ]
    },
    {
      "cell_type": "code",
      "metadata": {
        "colab": {
          "base_uri": "https://localhost:8080/",
          "height": 312
        },
        "id": "T6zZl9NY7_Te",
        "outputId": "edf7bf39-a793-447a-ed66-a3a302be38a2"
      },
      "source": [
        "# Se grafica el error de validación\n",
        "plt.plot(losses_val)\n",
        "plt.title(\"Validation loss\")\n",
        "plt.ylabel(\"loss\")\n",
        "plt.xlabel(\"epoch\")"
      ],
      "execution_count": 18,
      "outputs": [
        {
          "output_type": "execute_result",
          "data": {
            "text/plain": [
              "Text(0.5, 0, 'epoch')"
            ]
          },
          "metadata": {},
          "execution_count": 18
        },
        {
          "output_type": "display_data",
          "data": {
            "image/png": "[encoded data removed]",
            "text/plain": [
              "<Figure size 432x288 with 1 Axes>"
            ]
          },
          "metadata": {
            "needs_background": "light"
          }
        }
      ]
    },
    {
      "cell_type": "code",
      "metadata": {
        "colab": {
          "base_uri": "https://localhost:8080/"
        },
        "id": "sL37zolxnLxD",
        "outputId": "beb9e1b7-dabd-4ec0-9eeb-d18675dec5b8"
      },
      "source": [
        "correct = 0\n",
        "total = 0\n",
        "with torch.no_grad():\n",
        "    for data in test_loader:\n",
        "        inputs, labels = data\n",
        "        inputs = inputs.to(device)\n",
        "        labels = labels.to(device)\n",
        "        outputs = model(inputs)\n",
        "        _, predicted = torch.max(outputs.data, 1)\n",
        "        total += labels.size(0)\n",
        "        correct += (predicted == labels).sum().item()\n",
        "\n",
        "print('Accuracy of the network test images: {:.2f}'.format(correct / total))"
      ],
      "execution_count": 56,
      "outputs": [
        {
          "output_type": "stream",
          "name": "stdout",
          "text": [
            "Accuracy of the network test images: 0.62\n"
          ]
        }
      ]
    },
    {
      "cell_type": "code",
      "metadata": {
        "colab": {
          "base_uri": "https://localhost:8080/"
        },
        "id": "nAnQYQERtSqD",
        "outputId": "fbd7f6d9-51e3-4ad7-fb40-44ef4e92e22e"
      },
      "source": [
        "classes = test.dataset.dataset.classes\n",
        "correct_pred = {classname: 0 for classname in classes}\n",
        "total_pred = {classname: 0 for classname in classes}\n",
        "\n",
        "with torch.no_grad():\n",
        "    for data in test_loader:\n",
        "        inputs, labels = data\n",
        "        inputs = inputs.to(device)\n",
        "        labels = labels.to(device)\n",
        "        outputs = model(inputs)\n",
        "        _, predictions = torch.max(outputs, 1)\n",
        "        for label, prediction in zip(labels, predictions):\n",
        "            if label == prediction:\n",
        "                correct_pred[classes[label]] += 1\n",
        "            total_pred[classes[label]] += 1\n",
        "\n",
        "for classname, correct_count in correct_pred.items():\n",
        "    accuracy = 100 * float(correct_count) / total_pred[classname]\n",
        "    print(\"Accuracy for class {:5s} is: {:.2f}\".format(classname, accuracy))"
      ],
      "execution_count": 60,
      "outputs": [
        {
          "output_type": "stream",
          "name": "stdout",
          "text": [
            "Accuracy for class cane  is: 84.91\n",
            "Accuracy for class cavallo is: 31.82\n",
            "Accuracy for class elefante is: 61.54\n",
            "Accuracy for class farfalla is: 74.07\n",
            "Accuracy for class gallina is: 83.87\n",
            "Accuracy for class gatto is: 23.81\n",
            "Accuracy for class mucca is: 52.63\n",
            "Accuracy for class pecora is: 61.11\n",
            "Accuracy for class ragno is: 81.58\n",
            "Accuracy for class scoiattolo is: 47.37\n"
          ]
        }
      ]
    }
  ]
}