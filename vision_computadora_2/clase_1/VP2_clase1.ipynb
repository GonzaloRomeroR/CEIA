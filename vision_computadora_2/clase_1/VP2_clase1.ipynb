{
  "nbformat": 4,
  "nbformat_minor": 0,
  "metadata": {
    "colab": {
      "name": "VP2_clase1.ipynb",
      "provenance": [],
      "collapsed_sections": [],
      "authorship_tag": "ABX9TyMYYvZv9iMTJ+xqkvjkRM3e",
      "include_colab_link": true
    },
    "kernelspec": {
      "name": "python3",
      "display_name": "Python 3"
    },
    "language_info": {
      "name": "python"
    }
  },
  "cells": [
    {
      "cell_type": "markdown",
      "metadata": {
        "id": "view-in-github",
        "colab_type": "text"
      },
      "source": [
        "<a href=\"https://colab.research.google.com/github/GonzaloRomeroR/CEIA/blob/master/vision_computadora_2/clase_1/VP2_clase1.ipynb\" target=\"_parent\"><img src=\"https://colab.research.google.com/assets/colab-badge.svg\" alt=\"Open In Colab\"/></a>"
      ]
    },
    {
      "cell_type": "markdown",
      "metadata": {
        "id": "AYCoB40rMezG"
      },
      "source": [
        "## Ejercicio 1: Completar la tabla"
      ]
    },
    {
      "cell_type": "code",
      "metadata": {
        "id": "WSHKerxjAf96"
      },
      "source": [
        "# Import the libraries\n",
        "import torch\n",
        "from torch import nn\n"
      ],
      "execution_count": null,
      "outputs": []
    },
    {
      "cell_type": "markdown",
      "metadata": {
        "id": "31eaxNXrQuOJ"
      },
      "source": [
        "Se obtienen las dimensiones de las salidas y los parámetros entrenables de cada una de las capas propuestas. Se imprimen estos valores por cada capa para posteriormente completar la tabla con los valores obtenidos. "
      ]
    },
    {
      "cell_type": "code",
      "metadata": {
        "id": "omzHIswJRaEY"
      },
      "source": [
        "# Input values \n",
        "input = torch.randn(1, 3, 64, 64)"
      ],
      "execution_count": null,
      "outputs": []
    },
    {
      "cell_type": "markdown",
      "metadata": {
        "id": "9qkgT9wQRW1C"
      },
      "source": [
        "#### Conv2D(f=5, s=2, c=8, p=2)"
      ]
    },
    {
      "cell_type": "code",
      "metadata": {
        "colab": {
          "base_uri": "https://localhost:8080/"
        },
        "id": "D0IQiVz7Ap9Y",
        "outputId": "909e0117-ffb2-4f06-deda-348f3a5f18e1"
      },
      "source": [
        "conv_1 = nn.Conv2d(in_channels=3, out_channels=8, kernel_size=5, stride=2, padding=2)\n",
        "out_conv_1 = conv_1(input)\n",
        "print(\"Size:\", out_conv_1.size())\n",
        "conv_1_total_params = sum(p.numel() for p in conv_1.parameters())\n",
        "print(\"Parameters:\", conv_1_total_params)\n"
      ],
      "execution_count": null,
      "outputs": [
        {
          "output_type": "stream",
          "name": "stdout",
          "text": [
            "Size: torch.Size([1, 8, 32, 32])\n",
            "Parameters: 608\n"
          ]
        }
      ]
    },
    {
      "cell_type": "markdown",
      "metadata": {
        "id": "YHaTQw8FRcjY"
      },
      "source": [
        "#### Maxpool(f=2, s=2)"
      ]
    },
    {
      "cell_type": "code",
      "metadata": {
        "colab": {
          "base_uri": "https://localhost:8080/"
        },
        "id": "HmLrXtAND9g4",
        "outputId": "ff25a9a0-911e-4b0c-eb44-aa8ba1eefda8"
      },
      "source": [
        "# Maxpool(f=2, s=2)\n",
        "maxpool_1 = nn.MaxPool2d(kernel_size=2, stride=2)\n",
        "out_maxpool_1 = maxpool_1(out_conv_1)\n",
        "print(\"Size:\", out_maxpool_1.size())\n",
        "maxpool_1_total_params = sum(p.numel() for p in maxpool_1.parameters())\n",
        "print(\"Parameters:\", maxpool_1_total_params)"
      ],
      "execution_count": null,
      "outputs": [
        {
          "output_type": "stream",
          "name": "stdout",
          "text": [
            "Size: torch.Size([1, 8, 16, 16])\n",
            "Parameters: 0\n"
          ]
        }
      ]
    },
    {
      "cell_type": "markdown",
      "metadata": {
        "id": "7USAqlyDRlSB"
      },
      "source": [
        "#### Conv2D(f=3, s=1, c=16, p=1)"
      ]
    },
    {
      "cell_type": "code",
      "metadata": {
        "colab": {
          "base_uri": "https://localhost:8080/"
        },
        "id": "y49tBbPm7xV6",
        "outputId": "c1f5f2ef-4986-4392-9043-8a2d8920011e"
      },
      "source": [
        "conv_2 = nn.Conv2d(in_channels=8, out_channels=16, kernel_size=3, stride=1, padding=1)\n",
        "out_conv_2 = conv_2(out_maxpool_1)\n",
        "print(\"Size:\", out_conv_2.size())\n",
        "conv_2_total_params = sum(p.numel() for p in conv_2.parameters())\n",
        "print(\"Parameters:\", conv_2_total_params)\n"
      ],
      "execution_count": null,
      "outputs": [
        {
          "output_type": "stream",
          "name": "stdout",
          "text": [
            "Size: torch.Size([1, 16, 16, 16])\n",
            "Parameters: 1168\n"
          ]
        }
      ]
    },
    {
      "cell_type": "markdown",
      "metadata": {
        "id": "iD9iADWlRpMS"
      },
      "source": [
        "#### Maxpool(f=4, s=4)"
      ]
    },
    {
      "cell_type": "code",
      "metadata": {
        "colab": {
          "base_uri": "https://localhost:8080/"
        },
        "id": "vgGED3ARGhgo",
        "outputId": "dc6dacc9-be5f-486e-a3a7-1a4596b8b0c1"
      },
      "source": [
        "# Maxpool(f=4, s=4)\n",
        "maxpool_2 = nn.MaxPool2d(kernel_size=4, stride=4)\n",
        "out_maxpool_2 = maxpool_2(out_conv_2)\n",
        "print(\"Size:\", out_maxpool_2.size())\n",
        "maxpool_2_total_params = sum(p.numel() for p in maxpool_2.parameters())\n",
        "print(\"Parameters:\", maxpool_2_total_params)"
      ],
      "execution_count": null,
      "outputs": [
        {
          "output_type": "stream",
          "name": "stdout",
          "text": [
            "Size: torch.Size([1, 16, 4, 4])\n",
            "Parameters: 0\n"
          ]
        }
      ]
    },
    {
      "cell_type": "markdown",
      "metadata": {
        "id": "zLcDrihzRreo"
      },
      "source": [
        "#### Dense(salida=6)"
      ]
    },
    {
      "cell_type": "code",
      "metadata": {
        "colab": {
          "base_uri": "https://localhost:8080/"
        },
        "id": "CqwqVuhHHuZA",
        "outputId": "a7d2530b-aa97-41e2-e948-c1cb6d71fae5"
      },
      "source": [
        "# Dense(salida=6)\n",
        "linear = nn.Linear(in_features=16 * 4 * 4, out_features=6)\n",
        "out_linear = linear(out_maxpool_2.view(-1, 16 * 4 * 4))\n",
        "print(\"Size:\", out_linear.size())\n",
        "linear_total_params = sum(p.numel() for p in linear.parameters())\n",
        "print(\"Parameters:\", linear_total_params)\n"
      ],
      "execution_count": null,
      "outputs": [
        {
          "output_type": "stream",
          "name": "stdout",
          "text": [
            "Size: torch.Size([1, 6])\n",
            "Parameters: 1542\n"
          ]
        }
      ]
    },
    {
      "cell_type": "markdown",
      "metadata": {
        "id": "uHjV75bUP1VQ"
      },
      "source": [
        "### Tabla"
      ]
    },
    {
      "cell_type": "markdown",
      "metadata": {
        "id": "Dcp45xlPM904"
      },
      "source": [
        "\n",
        "\n",
        "|       | Dimensiones de entrada | Cantidad de parámetros |\n",
        "| ----------- | ----------- | ----------- |\n",
        "| Entrada      | (3, 64, 64)       | 0       |\n",
        "| Conv2D(f=5, s=2, c=8, p=2)  | (8, 32, 32)        | 608        |\n",
        "| MaxPool(f=2, s=2)  | (8, 16, 16)        | 0        |\n",
        "| Conv2D(f=3, s=1, c=16, p=1)  | (16, 16, 16)        | 1168        |\n",
        "| MaxPool(f=4, s=4)  | (16, 4, 4)        | 0        |\n",
        "| Dense(salida=6)  | (6)        | 1542        | "
      ]
    }
  ]
}