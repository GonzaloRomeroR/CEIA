{
    "cells": [
        {
            "cell_type": "markdown",
            "source": [
                "## Ejercicio 1"
            ],
            "metadata": {}
        },
        {
            "cell_type": "markdown",
            "source": [
                "Dada una matriz en formato numpy array, donde cada fila de la matriz representa un vector matemático.\r\n",
                "Calular l0, l1, l2"
            ],
            "metadata": {}
        },
        {
            "cell_type": "code",
            "execution_count": 1,
            "source": [
                "import numpy as np\r\n",
                "vector = np.array([[1, 1, 1], [2, 3, 4], [5, 6, 7]])\r\n",
                "print(\"Array\")\r\n",
                "print(vector)\r\n",
                "\r\n",
                "print(\"l0:\")\r\n",
                "print(np.linalg.norm(vector, ord=0, axis=1))\r\n",
                "print(np.count_nonzero(vector, axis=1))\r\n",
                "print(np.sum(vector != 0, axis=1))\r\n",
                "\r\n",
                "print(\"\\nl1:\")\r\n",
                "print(np.linalg.norm(vector, axis=1))\r\n",
                "print(np.sum(np.power(vector, 2), axis=1) ** 0.5)\r\n",
                "\r\n",
                "print(\"\\nl2:\")\r\n",
                "print(np.linalg.norm(vector, ord=float(\"inf\"), axis=1))\r\n",
                "print(np.max(np.abs(vector), axis=1))\r\n"
            ],
            "outputs": [
                {
                    "output_type": "stream",
                    "name": "stdout",
                    "text": [
                        "Array\n",
                        "[[1 1 1]\n",
                        " [2 3 4]\n",
                        " [5 6 7]]\n",
                        "l0:\n",
                        "[3. 3. 3.]\n",
                        "[3 3 3]\n",
                        "[3 3 3]\n",
                        "\n",
                        "l1:\n",
                        "[ 1.73205081  5.38516481 10.48808848]\n",
                        "[ 1.73205081  5.38516481 10.48808848]\n",
                        "\n",
                        "l2:\n",
                        "[1. 4. 7.]\n",
                        "[1 4 7]\n"
                    ]
                }
            ],
            "metadata": {}
        },
        {
            "cell_type": "markdown",
            "source": [
                "## Ejercicio 2"
            ],
            "metadata": {}
        },
        {
            "cell_type": "markdown",
            "source": [
                "Dada una matriz en formato numpy array, donde cada fila de la matriz representa un vector matemático, se requiere computar la norma l2 de cada vector. Una vez obtenida la norma, se debe ordenar las mísmas de mayor a menor. Finalmente, obtener la matriz original ordenada por fila según la norma l2."
            ],
            "metadata": {}
        },
        {
            "cell_type": "code",
            "execution_count": 65,
            "source": [
                "vector = np.array([[1,2,3,4], [1,1,1,1], [0,0,0,1]])\r\n",
                "print(\"Vector:\")\r\n",
                "print(vector)\r\n",
                "\r\n",
                "norm = np.linalg.norm(vector, axis=1)\r\n",
                "print(\"Norma del vector\")\r\n",
                "print(norm)\r\n",
                "\r\n",
                "print(\"Orden de la norma\")\r\n",
                "argorder = np.argsort(norm, axis=-1)\r\n",
                "print(argorder)\r\n",
                "\r\n",
                "print(\"Vector ordenado segun la norma\")\r\n",
                "vector[argorder]\r\n",
                "print(vector[argorder])\r\n"
            ],
            "outputs": [
                {
                    "output_type": "stream",
                    "name": "stdout",
                    "text": [
                        "Vector:\n",
                        "[[1 2 3 4]\n",
                        " [1 1 1 1]\n",
                        " [0 0 0 1]]\n",
                        "Norma del vector\n",
                        "[5.47722558 2.         1.        ]\n",
                        "Oreden de la norma\n",
                        "[2 1 0]\n",
                        "Vector ordenado segun la norma\n",
                        "[[0 0 0 1]\n",
                        " [1 1 1 1]\n",
                        " [1 2 3 4]]\n"
                    ]
                }
            ],
            "metadata": {}
        },
        {
            "cell_type": "markdown",
            "source": [
                "## Ejercicio 3"
            ],
            "metadata": {}
        },
        {
            "cell_type": "markdown",
            "source": [
                "El objetivo es construir un índice para identificadores de usuarios, es decir id2idx e idx2id. Para ello crear una clase, donde el índice se genere en el constructor. Armar métodos get_users_id y get_users_idx"
            ],
            "metadata": {}
        },
        {
            "cell_type": "code",
            "execution_count": 4,
            "source": [
                "class Indexing:\r\n",
                "    def __init__(self):\r\n",
                "        self.users_id = np.array([15, 12, 14, 10, 1, 2, 1])\r\n",
                "        self.users_idx = np.array([0, 1, 2, 3, 4, 5, 4])\r\n",
                "\r\n",
                "    def get_users_id(self, idx):\r\n",
                "        index = np.where(self.users_idx == idx)\r\n",
                "        return self.users_id[index][0]\r\n",
                "\r\n",
                "    def get_users_idx(self, id):\r\n",
                "        index = np.where(self.users_id == id)\r\n",
                "        return self.users_idx[index][0]\r\n",
                "\r\n",
                "indexing = Indexing()\r\n",
                "print(\"Get users idx of 1:\")\r\n",
                "value = indexing.get_users_idx(1)\r\n",
                "print(value)\r\n",
                "\r\n",
                "print(\"Get users id of 1:\")\r\n",
                "value = indexing.get_users_id(1)\r\n",
                "print(value)\r\n"
            ],
            "outputs": [
                {
                    "output_type": "stream",
                    "name": "stdout",
                    "text": [
                        "Get users idx of 1:\n",
                        "4\n",
                        "Get users id of 1:\n",
                        "12\n"
                    ]
                }
            ],
            "metadata": {}
        },
        {
            "cell_type": "markdown",
            "source": [
                "Una solución equivalente podría ser:"
            ],
            "metadata": {}
        },
        {
            "cell_type": "code",
            "execution_count": 3,
            "source": [
                "class Indexing:\r\n",
                "    def __init__(self):\r\n",
                "        self.users_id = np.unique([15, 12, 14, 10, 1, 2, 1])\r\n",
                "        print(self.users_id)\r\n",
                "        self.users_idx = np.ones(np.max(self.users_id) + 1, dtype=int) * -1\r\n",
                "        self.users_idx[self.users_id] = np.arange(self.users_id.shape[0])\r\n",
                "        print(self.users_idx)\r\n",
                "\r\n",
                "    def get_users_id(self, idx):\r\n",
                "        return self.users_id[idx]\r\n",
                "\r\n",
                "    def get_users_idx(self, id):\r\n",
                "        return self.users_idx[id]\r\n",
                "\r\n",
                "indexing = Indexing()\r\n",
                "print(\"Get users idx of 1:\")\r\n",
                "value = indexing.get_users_idx(1)\r\n",
                "print(value)\r\n",
                "\r\n",
                "print(\"Get users id of 1:\")\r\n",
                "value = indexing.get_users_id(1)\r\n",
                "print(value)\r\n"
            ],
            "outputs": [
                {
                    "output_type": "stream",
                    "name": "stdout",
                    "text": [
                        "[ 1  2 10 12 14 15]\n",
                        "[-1  0  1 -1 -1 -1 -1 -1 -1 -1  2 -1  3 -1  4  5]\n",
                        "Get users idx of 1:\n",
                        "0\n",
                        "Get users id of 1:\n",
                        "2\n"
                    ]
                }
            ],
            "metadata": {}
        },
        {
            "cell_type": "markdown",
            "source": [
                "## Ejercicio 4"
            ],
            "metadata": {}
        },
        {
            "cell_type": "markdown",
            "source": [
                "En los problemas de clasificación, se cuenta con dos arreglos, la verdad (ground truth) y la predicción (prediction). Cada elemento de los arreglos puede tomar dos valores: True (representado por 1) y False (representado por 0). Por lo tanto, se pueden definir cuatro variables:\r\n",
                "\r\n",
                "True Positive (TP): la verdad es 1 y la predicción es 1.\r\n",
                "\r\n",
                "True Negative (TN): la verdad es 0 y la predicción es 0.\r\n",
                "\r\n",
                "False Negative (FN): la verdad es 1 y la predicción es 0.\r\n",
                "\r\n",
                "False Positive (FP): la verdad es 0 y la predicción es 1.\r\n",
                "\r\n",
                "A partir de esas cuatro variables, se definen las siguientes métricas:\r\n",
                "\r\n",
                "Precision = TP / (TP + FP)\r\n",
                "\r\n",
                "Recall = TP / (TP + FN)\r\n",
                "\r\n",
                "Accuracy = (TP + TN) / (TP + TN + FP + FN)\r\n",
                "\r\n",
                "Para los siguientes arreglos, representando la verdad y la predicción, calcular las métricas anteriores con operaciones vectorizadas en NumPy.\r\n",
                "\r\n",
                "truth = [1,1,0,1,1,1,0,0,0,1]\r\n",
                "prediction = [1,1,1,1,0,0,1,1,0,0]"
            ],
            "metadata": {}
        },
        {
            "cell_type": "code",
            "execution_count": 120,
            "source": [
                "truth = np.array([1, 1, 0, 1, 1, 1, 0, 0, 0, 1])\r\n",
                "prediction = np.array([1, 1, 1, 1, 0, 0, 1, 1, 0, 0])\r\n",
                "\r\n",
                "TP = np.sum(truth * prediction)\r\n",
                "print(\"TP: \", TP)\r\n",
                "FP = np.sum(truth < prediction)\r\n",
                "print(\"FP: \", FP)\r\n",
                "TN = np.sum(truth == prediction) - TP\r\n",
                "print(\"TN: \", TN)\r\n",
                "FN = np.sum(truth > prediction)\r\n",
                "print(\"FN: \", FN)\r\n",
                "\r\n",
                "precision = TP / (TP + FP)\r\n",
                "print(\"Precision: \", precision)\r\n",
                "recall = TP / (TP + FN)\r\n",
                "print(\"Recall: \", recall)\r\n",
                "accuracy = (TP + TN) / (TP + TN + FP + FN)\r\n",
                "print(\"Accuracy: \", accuracy)\r\n",
                "\r\n"
            ],
            "outputs": [
                {
                    "output_type": "stream",
                    "name": "stdout",
                    "text": [
                        "TP:  3\n",
                        "FP:  3\n",
                        "TN:  1\n",
                        "FN:  3\n",
                        "Precision:  0.5\n",
                        "Recall:  0.5\n",
                        "Accuracy:  0.4\n"
                    ]
                }
            ],
            "metadata": {}
        },
        {
            "cell_type": "markdown",
            "source": [
                "## Ejercicio 5"
            ],
            "metadata": {}
        },
        {
            "cell_type": "markdown",
            "source": [
                "En information retrieval o search engines, en general contamos con queries “q” y para cada “q” una lista de documentos que son verdaderamente relevantes. Para evaluar un search engine, es común utilizar la métrica average query precision. Tomando de referencia el siguiente ejemplo, calcular la métrica con NumPy utilizando operaciones vectorizadas."
            ],
            "metadata": {}
        },
        {
            "cell_type": "code",
            "execution_count": 37,
            "source": [
                "T = True\r\n",
                "F = False\r\n",
                "q_id = np.array([1, 1, 1, 1, 2, 2, 2, 3, 3, 3, 3, 3, 4, 4, 4, 4])\r\n",
                "predicted_rank = np.array([0, 1, 2, 3, 0, 1, 2, 0, 1, 2, 3, 4, 0, 1, 2, 3])\r\n",
                "truth_relevance = np.array([T, F, T, F, T, T, T, F, F, F, F, F, T, F, F, T])\r\n",
                "\r\n",
                "# Get bincount of every id\r\n",
                "counts = np.bincount(q_id)\r\n",
                "# Replace values that are zero to be able to divide\r\n",
                "counts = np.where(counts==0, -1, counts)\r\n",
                "# Get true values number for every query id\r\n",
                "truth_counts = np.bincount(q_id * truth_relevance)\r\n",
                "# Get proportion of truth values\r\n",
                "true_proportion = truth_counts / counts\r\n",
                "# Filter negative values\r\n",
                "true_proportion = np.where(true_proportion<0, 0, true_proportion)\r\n",
                "# Get average precision\r\n",
                "avg_precision = np.sum(true_proportion) /  np.unique(q_id).shape[0]\r\n",
                "print(\"The average precision is: {}\".format(avg_precision))\r\n"
            ],
            "outputs": [
                {
                    "output_type": "stream",
                    "name": "stdout",
                    "text": [
                        "The average precision is: 0.5\n"
                    ]
                }
            ],
            "metadata": {}
        },
        {
            "cell_type": "markdown",
            "source": [
                "## Ejercicio 6"
            ],
            "metadata": {}
        },
        {
            "cell_type": "markdown",
            "source": [
                "Dada una nube de puntos X y centroides C, obtener la distancia entre cada vector X y los centroides utilizando operaciones vectorizadas y broadcasting en NumPy. Utilizar como referencia los siguientes valores:"
            ],
            "metadata": {}
        },
        {
            "cell_type": "code",
            "execution_count": 5,
            "source": [
                "X = np.array([[1, 2, 3], [4, 5, 6], [7, 8, 9]])\r\n",
                "C = np.array([[1, 0, 0], [0, 1, 1]])   \r\n",
                "\r\n",
                "print(\"X: \")\r\n",
                "print(X)\r\n",
                "print(\"\\nC: \")\r\n",
                "print(C)\r\n",
                "print(\"\\nX - C[:, None]: \")\r\n",
                "print(X - C[:, None])\r\n",
                "print(\"\\nDistance:\")\r\n",
                "print(np.linalg.norm(X - C[:, None], axis=2))\r\n",
                "\r\n",
                "distance = np.linalg.norm(X - C[:, None], axis=2)\r\n"
            ],
            "outputs": [
                {
                    "output_type": "stream",
                    "name": "stdout",
                    "text": [
                        "X: \n",
                        "[[1 2 3]\n",
                        " [4 5 6]\n",
                        " [7 8 9]]\n",
                        "\n",
                        "C: \n",
                        "[[1 0 0]\n",
                        " [0 1 1]]\n",
                        "\n",
                        "X - C[:, None]: \n",
                        "[[[0 2 3]\n",
                        "  [3 5 6]\n",
                        "  [6 8 9]]\n",
                        "\n",
                        " [[1 1 2]\n",
                        "  [4 4 5]\n",
                        "  [7 7 8]]]\n",
                        "\n",
                        "Distance:\n",
                        "[[ 3.60555128  8.36660027 13.45362405]\n",
                        " [ 2.44948974  7.54983444 12.72792206]]\n"
                    ]
                }
            ],
            "metadata": {}
        },
        {
            "cell_type": "markdown",
            "source": [
                "## Ejercicio 7"
            ],
            "metadata": {}
        },
        {
            "cell_type": "markdown",
            "source": [
                "Obtener para cada fila en X, el índice de la fila en C con distancia euclídea más pequeña. Es decir, para cada fila en X, determinar a qué cluster pertenece en C. Hint: usar np.argmin."
            ],
            "metadata": {}
        },
        {
            "cell_type": "code",
            "execution_count": 39,
            "source": [
                "print(\"Los indices para cada fila son: {}\".format(np.argmin(distance, axis=0)))"
            ],
            "outputs": [
                {
                    "output_type": "stream",
                    "name": "stdout",
                    "text": [
                        "Los indices para cada fila son: [1 1 1]\n"
                    ]
                }
            ],
            "metadata": {}
        },
        {
            "cell_type": "markdown",
            "source": [
                "## Ejercicio #8: Implementación Básica de K-means"
            ],
            "metadata": {}
        },
        {
            "cell_type": "markdown",
            "source": [
                "Implementado en archivo aparte"
            ],
            "metadata": {}
        },
        {
            "cell_type": "markdown",
            "source": [
                "## Ejercicio #9: Computar Métricas con __call__ "
            ],
            "metadata": {}
        },
        {
            "cell_type": "code",
            "execution_count": 9,
            "source": [
                "class BaseMetric:\r\n",
                "    def __init__(self, **kwargs):\r\n",
                "        self.truth = kwargs.get(\"truth\", [])\r\n",
                "        self.prediction = kwargs.get(\"prediction\", [])\r\n",
                "\r\n",
                "        self.true_positive = np.sum(self.truth * self.prediction)\r\n",
                "        self.false_positive = np.sum(self.truth < self.prediction)  \r\n",
                "        self.true_negative = np.sum(self.truth == self.prediction) - self.true_positive\r\n",
                "        self.false_negative = np.sum(self.truth > self.prediction)\r\n",
                "\r\n",
                "class Precision(BaseMetric):\r\n",
                "    def __call__(self):\r\n",
                "        return self.true_positive / (self.true_positive + self.false_positive)\r\n",
                "\r\n",
                "class Recall(BaseMetric):\r\n",
                "    def __call__(self):\r\n",
                "        return self.true_positive / (self.true_positive + self.false_negative)\r\n",
                "\r\n",
                "class Accuracy(BaseMetric):\r\n",
                "    def __call__(self):\r\n",
                "        return (self.true_positive + self.true_negative) / (self.true_positive + self.true_negative + self.false_positive + self.false_negative)\r\n",
                "\r\n",
                "class Metrics:\r\n",
                "    def __init__(self, **kwargs):\r\n",
                "        self.metrics = {}\r\n",
                "        self.data = kwargs\r\n",
                "    \r\n",
                "    def __call__(self):\r\n",
                "        for metric in [Precision, Recall, Accuracy]:\r\n",
                "            self.metrics[metric.__name__] = metric(**self.data)()\r\n",
                "        return self.metrics\r\n",
                "    \r\n",
                "\r\n",
                "truth = np.array([1, 1, 0, 1, 1, 1, 0, 0, 0, 1])\r\n",
                "prediction = np.array([1, 1, 1, 1, 0, 0, 1, 1, 0, 0])\r\n",
                "Metrics(truth=truth, prediction=prediction)()\r\n",
                "\r\n",
                "    "
            ],
            "outputs": [
                {
                    "output_type": "execute_result",
                    "data": {
                        "text/plain": [
                            "{'Precision': 0.5, 'Recall': 0.5, 'Accuracy': 0.4}"
                        ]
                    },
                    "metadata": {},
                    "execution_count": 9
                }
            ],
            "metadata": {}
        },
        {
            "cell_type": "markdown",
            "source": [
                "## Ejercicio #10: Dataset a NumPy Estructurado - Patrón de Diseño Singleton"
            ],
            "metadata": {}
        },
        {
            "cell_type": "markdown",
            "source": [
                "Para éste ejercicio vamos a descargar un dataset de Kaggle. Es recomendable que se creen una cuenta porque es un lugar de donde potencialmente vamos a descargar muchos recursos."
            ],
            "metadata": {}
        },
        {
            "cell_type": "code",
            "execution_count": 21,
            "source": [
                "import pickle\r\n",
                "import os\r\n",
                "from numpy.lib.recfunctions import unstructured_to_structured\r\n",
                "\r\n",
                "class DatasetHandler:\r\n",
                "    _instance = None\r\n",
                "    def __new__(cls, *args, **kwargs):\r\n",
                "        if not isinstance(cls._instance, cls):\r\n",
                "            cls._instance = super().__new__(cls)\r\n",
                "        return cls._instance\r\n",
                "\r\n",
                "    def __init__(self, path, dtypes):\r\n",
                "        self.path = path\r\n",
                "        self.dtypes = dtypes\r\n",
                "        self.pickle_file = self.path.rsplit('.', 1)[0] + \".pkl\"\r\n",
                "        if os.path.exists(self.pickle_file):\r\n",
                "            self.upload_pickle()\r\n",
                "        else:\r\n",
                "            self.upload_csv()\r\n",
                "\r\n",
                "    def upload_pickle(self):\r\n",
                "        print(\"Uploading pickle\")\r\n",
                "        with open(self.pickle_file,'rb') as f:\r\n",
                "            self.data = pickle.load(f)\r\n",
                "        print(self.data)\r\n",
                "\r\n",
                "    def upload_csv(self):\r\n",
                "        print(\"Uploading csv\")\r\n",
                "        dataset = np.genfromtxt(dataset_path, delimiter=\",\", skip_header=1)\r\n",
                "        self.data = unstructured_to_structured(dataset, dtype=np.dtype(datatypes))\r\n",
                "        with open(self.pickle_file,'wb') as f:\r\n",
                "            pickle.dump(self.data, f)\r\n",
                "\r\n",
                "dataset_path = \"archive/ratings_small.csv\"\r\n",
                "datatypes = [(\"userId\", 'u4'), (\"movieId\", 'u4'), (\"rating\", 'f4'), (\"timestamp\", 'u8')]\r\n",
                "\r\n",
                "dataset_handler = DatasetHandler(path=dataset_path, dtypes=datatypes)\r\n",
                "print(dataset_handler.data)"
            ],
            "outputs": [
                {
                    "output_type": "stream",
                    "name": "stdout",
                    "text": [
                        "Uploading pickle\n",
                        "[(  1,   31, 2.5, 1260759144) (  1, 1029, 3. , 1260759179)\n",
                        " (  1, 1061, 3. , 1260759182) ... (671, 6365, 4. , 1070940363)\n",
                        " (671, 6385, 2.5, 1070979663) (671, 6565, 3.5, 1074784724)]\n",
                        "[(  1,   31, 2.5, 1260759144) (  1, 1029, 3. , 1260759179)\n",
                        " (  1, 1061, 3. , 1260759182) ... (671, 6365, 4. , 1070940363)\n",
                        " (671, 6385, 2.5, 1070979663) (671, 6565, 3.5, 1074784724)]\n"
                    ]
                }
            ],
            "metadata": {}
        }
    ],
    "metadata": {
        "orig_nbformat": 4,
        "language_info": {
            "name": "python",
            "version": "3.8.8",
            "mimetype": "text/x-python",
            "codemirror_mode": {
                "name": "ipython",
                "version": 3
            },
            "pygments_lexer": "ipython3",
            "nbconvert_exporter": "python",
            "file_extension": ".py"
        },
        "kernelspec": {
            "name": "python3",
            "display_name": "Python 3.8.8 64-bit ('base': conda)"
        },
        "interpreter": {
            "hash": "381eb007a34d8c1cdb905850c2f3106cb914c7dd3c02e711b593e7e3b228bf2b"
        }
    },
    "nbformat": 4,
    "nbformat_minor": 2
}