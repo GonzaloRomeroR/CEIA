{
 "cells": [
  {
   "cell_type": "markdown",
   "source": [
    "# Ejercicios"
   ],
   "metadata": {}
  },
  {
   "cell_type": "code",
   "execution_count": 1,
   "source": [
    "import numpy as np"
   ],
   "outputs": [],
   "metadata": {}
  },
  {
   "cell_type": "markdown",
   "source": [
    "### Ejecicio #1: Normalización"
   ],
   "metadata": {}
  },
  {
   "cell_type": "markdown",
   "source": [
    "Dado un dataset X de n muestras y m features, implementar un método en numpy para normalizar con z-score. Pueden utilizar np.mean() y np.std()."
   ],
   "metadata": {}
  },
  {
   "cell_type": "code",
   "execution_count": 30,
   "source": [
    "n = 200\r\n",
    "m = 3\r\n",
    "\r\n",
    "def normalize(dataset):\r\n",
    "    dataset -= np.mean(dataset, axis=0)\r\n",
    "    dataset /= np.std(dataset, axis=0)    \r\n",
    "    return dataset\r\n",
    "\r\n",
    "# Create random dataset with different mean and standart deviation per row\r\n",
    "dataset = np.random.normal(loc=[i for i in range(m)], scale=[i + 1 for i in range(m)], size=(n, m))\r\n",
    "normalize(dataset)[:5]\r\n",
    "\r\n"
   ],
   "outputs": [
    {
     "output_type": "execute_result",
     "data": {
      "text/plain": [
       "array([[-0.08080771, -0.86566815,  0.54661195],\n",
       "       [-0.97829072,  1.92897646, -2.30216662],\n",
       "       [ 1.35856699,  1.26456653,  0.57291751],\n",
       "       [ 0.27264547, -1.41703953,  0.3953336 ],\n",
       "       [ 0.36785952, -0.40212943,  0.64192944]])"
      ]
     },
     "metadata": {},
     "execution_count": 30
    }
   ],
   "metadata": {}
  },
  {
   "cell_type": "markdown",
   "source": [
    "### Ejecicio #2: Remover filas y columnas con NaNs en un dataset"
   ],
   "metadata": {}
  },
  {
   "cell_type": "markdown",
   "source": [
    "Dado un dataset, hacer una función que, utilizando numpy, filtre las columnas y las filas que tienen NaNs."
   ],
   "metadata": {}
  },
  {
   "cell_type": "code",
   "execution_count": 38,
   "source": [
    "# Add random NaNs to datasets\r\n",
    "dataset_nan = dataset.copy()\r\n",
    "n_nan = 20\r\n",
    "dataset_nan.ravel()[np.random.choice(dataset_nan.size, n_nan, replace=False)] = np.nan\r\n",
    "dataset_nan[:10]"
   ],
   "outputs": [
    {
     "output_type": "execute_result",
     "data": {
      "text/plain": [
       "array([[-0.08080771, -0.86566815,         nan],\n",
       "       [-0.97829072,  1.92897646, -2.30216662],\n",
       "       [ 1.35856699,  1.26456653,  0.57291751],\n",
       "       [ 0.27264547, -1.41703953,  0.3953336 ],\n",
       "       [ 0.36785952, -0.40212943,  0.64192944],\n",
       "       [-1.51548972,  2.18570759,  2.32999829],\n",
       "       [ 0.33969916, -0.7045802 ,  0.34849299],\n",
       "       [-0.53465246, -1.86645961, -0.71462062],\n",
       "       [        nan,  1.04023499,  1.52048159],\n",
       "       [-1.30854768,  0.91027196, -1.62026017]])"
      ]
     },
     "metadata": {},
     "execution_count": 38
    }
   ],
   "metadata": {}
  },
  {
   "cell_type": "code",
   "execution_count": 68,
   "source": [
    "def delete_row_nan(dataset):\r\n",
    "    return dataset[~np.isnan(dataset).any(axis=1)].copy()\r\n",
    "\r\n",
    "def delete_col_nan(dataset):\r\n",
    "    return dataset[:, ~np.isnan(dataset).any(axis=0)].copy()\r\n",
    "\r\n",
    "print(\"Se eliminan todas las filas con NaNs\")\r\n",
    "print(delete_row_nan(dataset_nan)[:10])\r\n",
    "print(\"Se eliminan todas las columnas con NaNs\")\r\n",
    "print(delete_col_nan(dataset_nan))\r\n"
   ],
   "outputs": [
    {
     "output_type": "stream",
     "name": "stdout",
     "text": [
      "Se eliminan todas las filas con NaNs\n",
      "[[-0.97829072  1.92897646 -2.30216662]\n",
      " [ 1.35856699  1.26456653  0.57291751]\n",
      " [ 0.27264547 -1.41703953  0.3953336 ]\n",
      " [ 0.36785952 -0.40212943  0.64192944]\n",
      " [-1.51548972  2.18570759  2.32999829]\n",
      " [ 0.33969916 -0.7045802   0.34849299]\n",
      " [-0.53465246 -1.86645961 -0.71462062]\n",
      " [-1.30854768  0.91027196 -1.62026017]\n",
      " [-0.93337254  1.13344349 -1.55911108]\n",
      " [ 0.57409567 -0.43068234  2.57112485]]\n",
      "Se eliminan todas las columnas con NaNs\n",
      "[]\n"
     ]
    }
   ],
   "metadata": {}
  },
  {
   "cell_type": "markdown",
   "source": [
    "### Ejecicio #3: Reemplazar NaNs por la media de la columna"
   ],
   "metadata": {}
  },
  {
   "cell_type": "markdown",
   "source": [
    "Dado un dataset, hacer una función que utilizando numpy reemplace los NaNs por la media de la columna."
   ],
   "metadata": {}
  },
  {
   "cell_type": "code",
   "execution_count": 67,
   "source": [
    "def replace_nan_mean(dataset):\r\n",
    "    col_mean = np.nanmean(dataset, axis=0)\r\n",
    "    return np.nan_to_num(dataset, nan=col_mean)\r\n",
    "\r\n",
    "replace_nan_mean(dataset_nan)[:10]\r\n"
   ],
   "outputs": [
    {
     "output_type": "execute_result",
     "data": {
      "text/plain": [
       "array([[-0.08080771, -0.86566815,  0.01674418],\n",
       "       [-0.97829072,  1.92897646, -2.30216662],\n",
       "       [ 1.35856699,  1.26456653,  0.57291751],\n",
       "       [ 0.27264547, -1.41703953,  0.3953336 ],\n",
       "       [ 0.36785952, -0.40212943,  0.64192944],\n",
       "       [-1.51548972,  2.18570759,  2.32999829],\n",
       "       [ 0.33969916, -0.7045802 ,  0.34849299],\n",
       "       [-0.53465246, -1.86645961, -0.71462062],\n",
       "       [-0.01502518,  1.04023499,  1.52048159],\n",
       "       [-1.30854768,  0.91027196, -1.62026017]])"
      ]
     },
     "metadata": {},
     "execution_count": 67
    }
   ],
   "metadata": {}
  },
  {
   "cell_type": "markdown",
   "source": [
    "### Ejecicio #4: Dado un dataset X separarlo en 70 / 20 / 10"
   ],
   "metadata": {}
  },
  {
   "cell_type": "markdown",
   "source": [
    "A partir de utilizar np.random.permutation, hacer un método que dado un dataset, devuelva los 3 datasets como nuevos numpy arrays."
   ],
   "metadata": {}
  },
  {
   "cell_type": "code",
   "execution_count": 78,
   "source": [
    "def divide_dataset(dataset, split):\r\n",
    "    shuffled_dataset = np.random.permutation(dataset)\r\n",
    "    train_index = int(split[\"train\"] / 100 * shuffled_dataset.shape[0])\r\n",
    "    val_index = int(split[\"val\"] / 100 * shuffled_dataset.shape[0]) + train_index\r\n",
    "    train = shuffled_dataset[:train_index]\r\n",
    "    validation = shuffled_dataset[train_index:val_index]\r\n",
    "    test = shuffled_dataset[val_index:]\r\n",
    "    return train, validation, test\r\n",
    "    \r\n",
    "split = {\"train\": 70, \"val\": 20, \"test\": 10}\r\n",
    "train, validation, test = divide_dataset(dataset, split)\r\n",
    "print(\"Train shape: \", train.shape[0])\r\n",
    "print(\"Validation shape: \", validation.shape[0])\r\n",
    "print(\"Test shape: \", test.shape[0])"
   ],
   "outputs": [
    {
     "output_type": "stream",
     "name": "stdout",
     "text": [
      "Train shape:  140\n",
      "Validation shape:  40\n",
      "Test shape:  20\n"
     ]
    }
   ],
   "metadata": {}
  },
  {
   "cell_type": "markdown",
   "source": [
    "### Ejercicio #5: A partir del dataset de consigna, aplicar los conceptos de regresión lineal."
   ],
   "metadata": {}
  },
  {
   "cell_type": "markdown",
   "source": [
    "Armar una clase para cargar el dataset en un ndarray estructurado"
   ],
   "metadata": {}
  },
  {
   "cell_type": "code",
   "execution_count": null,
   "source": [],
   "outputs": [],
   "metadata": {}
  },
  {
   "cell_type": "markdown",
   "source": [
    "Incluir un método split a la clase para obtener los sets de training y test."
   ],
   "metadata": {}
  },
  {
   "cell_type": "code",
   "execution_count": null,
   "source": [],
   "outputs": [],
   "metadata": {}
  },
  {
   "cell_type": "markdown",
   "source": [
    "Crear una clase métrica base y una clase MSE (Error cuadrático medio) que herede de la clase base."
   ],
   "metadata": {}
  },
  {
   "cell_type": "code",
   "execution_count": null,
   "source": [],
   "outputs": [],
   "metadata": {}
  },
  {
   "cell_type": "markdown",
   "source": [
    "Crear una clase modelo base y clases regresión lineal y regresión afín que hereden de la primera. Usar los conocimientos teóricos vistos en clase."
   ],
   "metadata": {}
  },
  {
   "cell_type": "code",
   "execution_count": null,
   "source": [],
   "outputs": [],
   "metadata": {}
  },
  {
   "cell_type": "markdown",
   "source": [
    "Hacer un fit de las regresiones con los datos de entrenamiento."
   ],
   "metadata": {}
  },
  {
   "cell_type": "code",
   "execution_count": null,
   "source": [],
   "outputs": [],
   "metadata": {}
  },
  {
   "cell_type": "markdown",
   "source": [
    "Hacer un predict sobre los datos de test y reportar el MSE en cada caso."
   ],
   "metadata": {}
  },
  {
   "cell_type": "code",
   "execution_count": null,
   "source": [],
   "outputs": [],
   "metadata": {}
  },
  {
   "cell_type": "markdown",
   "source": [
    "Graficar la curva obtenida."
   ],
   "metadata": {}
  }
 ],
 "metadata": {
  "orig_nbformat": 4,
  "language_info": {
   "name": "python",
   "version": "3.8.8",
   "mimetype": "text/x-python",
   "codemirror_mode": {
    "name": "ipython",
    "version": 3
   },
   "pygments_lexer": "ipython3",
   "nbconvert_exporter": "python",
   "file_extension": ".py"
  },
  "kernelspec": {
   "name": "python3",
   "display_name": "Python 3.8.8 64-bit ('base': conda)"
  },
  "interpreter": {
   "hash": "381eb007a34d8c1cdb905850c2f3106cb914c7dd3c02e711b593e7e3b228bf2b"
  }
 },
 "nbformat": 4,
 "nbformat_minor": 2
}