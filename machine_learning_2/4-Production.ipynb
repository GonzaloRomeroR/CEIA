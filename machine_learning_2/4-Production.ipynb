{
 "cells": [
  {
   "cell_type": "markdown",
   "metadata": {},
   "source": [
    "### Production"
   ]
  },
  {
   "cell_type": "code",
   "execution_count": 2,
   "metadata": {},
   "outputs": [],
   "source": [
    "import mlflow\n",
    "import pyarrow.feather as feather\n"
   ]
  },
  {
   "cell_type": "code",
   "execution_count": 3,
   "metadata": {},
   "outputs": [],
   "source": [
    "X_train = feather.read_feather(\"./results/X_train.ftr\")\n",
    "X_test = feather.read_feather(\"./results/X_test.ftr\")\n",
    "y_train = feather.read_feather(\"./results/y_train.ftr\").to_numpy().ravel()\n",
    "y_test = feather.read_feather(\"./results/y_test.ftr\").to_numpy().ravel()"
   ]
  },
  {
   "cell_type": "code",
   "execution_count": 11,
   "metadata": {},
   "outputs": [
    {
     "data": {
      "text/plain": [
       "Customer Type               0.476040\n",
       "Age                         0.817887\n",
       "Type of Travel              0.663378\n",
       "Class                      -1.077065\n",
       "Flight Distance            -1.041795\n",
       "Inflight wifi service       1.703853\n",
       "Ease of Online booking      0.172143\n",
       "Gate location               0.797831\n",
       "Food and drink             -0.161739\n",
       "Online boarding             0.544692\n",
       "Seat comfort               -0.340303\n",
       "Inflight entertainment      1.227138\n",
       "On-board service            1.259170\n",
       "Leg room service            1.250974\n",
       "Baggage handling            1.161716\n",
       "Checkin service            -1.035348\n",
       "Inflight service            1.144063\n",
       "Cleanliness                 1.298998\n",
       "Arrival Delay in Minutes    1.948498\n",
       "Name: 0, dtype: float64"
      ]
     },
     "execution_count": 11,
     "metadata": {},
     "output_type": "execute_result"
    }
   ],
   "source": [
    "X_test.iloc[0]"
   ]
  },
  {
   "cell_type": "code",
   "execution_count": 12,
   "metadata": {},
   "outputs": [
    {
     "data": {
      "text/plain": [
       "array([1, 1, 0, ..., 0, 1, 0])"
      ]
     },
     "execution_count": 12,
     "metadata": {},
     "output_type": "execute_result"
    }
   ],
   "source": [
    "logged_model = 'runs:/8a0ad36647ea44cf97c2c40eb4ca3bf1/model'\n",
    "\n",
    "# Load model as a PyFuncModel.\n",
    "loaded_model = mlflow.pyfunc.load_model(logged_model)\n",
    "\n",
    "# Predict on a Pandas DataFrame.\n",
    "import pandas as pd\n",
    "loaded_model.predict(pd.DataFrame(X_test))\n",
    "\n"
   ]
  },
  {
   "cell_type": "code",
   "execution_count": null,
   "metadata": {},
   "outputs": [],
   "source": [
    "# mlflow models serve -m ./mlruns/0/8a0ad36647ea44cf97c2c40eb4ca3bf1/artifacts/model -p 1234\n",
    "# curl -X POST -H \"Content-Type:application/json; format=pandas-split\" --data '{\"columns\":[\"Customer Type\", \"Age\", \"Type of Travel\", \"Class\", \"Flight Distance\", \"Inflight wifi service\", \"Ease of Online booking\", \"Gate location\", \"Food and drink\", \"Online boarding\", \"Seat comfort\", \"Inflight entertainment\", \"On-board service\", \"Leg room service\", \"Baggage handling\", \"Checkin service\", \"Inflight service\", \"Cleanliness\", \"Arrival Delay in Minutes\"],\"data\":[[0.47603968,  0.81788702,  0.66337845, -1.07706454, -1.04179459, 1.70385282, 0.17214266,  0.79783121, -0.1617392 , 0.54469211, -0.34030327, 1.22713822, 1.25917014, 1.25097391, 1.16171635, -1.03534761, 1.14406253, 1.29899809, 1.94849759]]}' http://127.0.0.1:1234/invocations"
   ]
  }
 ],
 "metadata": {
  "interpreter": {
   "hash": "cbfe4beadbdb253ff2673a5c8ea3800046ae087af7e527099a96fd9944d31644"
  },
  "kernelspec": {
   "display_name": "Python 3.9.7 ('base')",
   "language": "python",
   "name": "python3"
  },
  "language_info": {
   "codemirror_mode": {
    "name": "ipython",
    "version": 3
   },
   "file_extension": ".py",
   "mimetype": "text/x-python",
   "name": "python",
   "nbconvert_exporter": "python",
   "pygments_lexer": "ipython3",
   "version": "3.9.7"
  },
  "orig_nbformat": 4
 },
 "nbformat": 4,
 "nbformat_minor": 2
}
