{
 "cells": [
  {
   "cell_type": "markdown",
   "metadata": {},
   "source": [
    "# Proyecto Final: Aprendizaje de Máquina I"
   ]
  },
  {
   "cell_type": "markdown",
   "metadata": {},
   "source": [
    "En el presente proyecto se busca realizar el ciclo de vida completo de un proyecto de machine learning. Se selecciona un dataset y procede a realizar el preporcesamiento de los datos para posteriormente utilizar disitintos modelos de aprendizaje para realizar la clasificación."
   ]
  },
  {
   "cell_type": "markdown",
   "metadata": {},
   "source": [
    "El dataset a utilizar se denomina Airline Passenger Satsfaction. Es un dataset tomado desde [kaggle](https://www.kaggle.com/teejmahal20/airline-passenger-satisfaction) para la predicción de la satisfacción de clientes basado en distintas variables tales como la edad de los clientes, el tiempo de vuelo, la comida, entre otros. Se busca además determinar la variables que están más correlacionadas con la satsifacción del cliente. \n",
    "\n",
    "![image info](./imgs/japanairlines.jpg)"
   ]
  },
  {
   "cell_type": "markdown",
   "metadata": {},
   "source": [
    "Las variables dentro del dataset son las siguientes:\n",
    "* Gender: género del pasajero.\n",
    "* Customer type: tipo de cliente (leal, no leal).\n",
    "* Age: edad del pasajero.\n",
    "* Type of Travel: Propósito del viaje (personl, trabajo).\n",
    "* Class: clase del viaje (Business, Eco, Eco Plus).\n",
    "* Flight distante: distancia del vuelo.\n",
    "* Inflight wifi service: satisfacción con respecto al servicio de wifi (0: no aplica, 1-5)\n",
    "* Departure/Arrival time convenient: satisfacción del horario\n",
    "* Ease of Online booking: satisfacción de la reserva online\n",
    "* Gate location: satisfacción sobre la puerta de embarque\n",
    "* Food and drink: satisfacción sobre la comida\n",
    "* Online boarding: satisfacción del online boarding\n",
    "* Seat comfort: satisfacción sobre el asiento\n",
    "* Inflight entertainment: satisfacción del entretenimiento\n",
    "* On-board service: satisfacción del servicio on board\n",
    "* Leg room service: satisfacción sobre el espacio de los asientos\n",
    "* Baggage handling: satisfacción sobre el manejo de las valijas\n",
    "* Check-in service: satisfacción del servicio de check-in\n",
    "* Inflight service: satisfacción con respecto al personal\n",
    "* Cleanliness: satisfacción en cuanto a la limpieza\n",
    "* Departure Delay in Minutes: minutos de retraso en la partida\n",
    "* Arrival Delay in Minutes: minutos de retraso de arrivo.\n",
    "* Satisfaction: nivel de satisfacción (satisfecho, no satisfecho)"
   ]
  },
  {
   "cell_type": "markdown",
   "metadata": {},
   "source": [
    "Se busca predecir la satisfacción en función de las demás variables de entrada."
   ]
  }
 ],
 "metadata": {
  "interpreter": {
   "hash": "b7f27f0218d8a6e2ca40b260123b9ba184168279bf7c1e7c465f5d85f554e641"
  },
  "kernelspec": {
   "display_name": "Python 3.8.8 64-bit ('base': conda)",
   "language": "python",
   "name": "python3"
  },
  "language_info": {
   "name": "python",
   "version": "3.8.8"
  },
  "orig_nbformat": 4
 },
 "nbformat": 4,
 "nbformat_minor": 2
}
